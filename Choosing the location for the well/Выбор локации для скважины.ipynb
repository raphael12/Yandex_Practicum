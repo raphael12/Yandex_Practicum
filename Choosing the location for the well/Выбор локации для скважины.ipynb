{
 "cells": [
  {
   "cell_type": "markdown",
   "metadata": {},
   "source": [
    "# Выбор локации для скважины"
   ]
  },
  {
   "cell_type": "markdown",
   "metadata": {},
   "source": [
    "Допустим, вы работаете в добывающей компании «ГлавРосГосНефть». Нужно решить, где бурить новую скважину.\n",
    "\n",
    "Вам предоставлены пробы нефти в трёх регионах: в каждом 10 000 месторождений, где измерили качество нефти и объём её запасов. Постройте модель машинного обучения, которая поможет определить регион, где добыча принесёт наибольшую прибыль. Проанализируйте возможную прибыль и риски техникой *Bootstrap.*\n",
    "\n",
    "Шаги для выбора локации:\n",
    "\n",
    "- В избранном регионе ищут месторождения, для каждого определяют значения признаков;\n",
    "- Строят модель и оценивают объём запасов;\n",
    "- Выбирают месторождения с самым высокими оценками значений. Количество месторождений зависит от бюджета компании и стоимости разработки одной скважины;\n",
    "- Прибыль равна суммарной прибыли отобранных месторождений."
   ]
  },
  {
   "cell_type": "code",
   "execution_count": 1,
   "metadata": {},
   "outputs": [],
   "source": [
    "#Установка доп библиотеки\n",
    "!pip install skimp\n",
    "!pip install phik"
   ]
  },
  {
   "cell_type": "code",
   "execution_count": 2,
   "metadata": {},
   "outputs": [],
   "source": [
    "#Основные библиотеки\n",
    "import pandas as pd\n",
    "import numpy as np\n",
    "import matplotlib.pyplot as plt\n",
    "import seaborn as se\n",
    "from skimpy import skim, clean_columns\n",
    "\n",
    "#Изученные модели из курса для классификации\n",
    "from sklearn.linear_model import LinearRegression\n",
    "\n",
    "#Вспомогательные функции\n",
    "from sklearn.model_selection import train_test_split\n",
    "from sklearn.utils import shuffle\n",
    "#from phik.report import correlation_report, plot_correlation_matrix\n",
    "\n",
    "#Метрики\n",
    "from sklearn.metrics import mean_squared_error\n",
    "\n",
    "import warnings\n",
    "warnings.filterwarnings(\"ignore\")"
   ]
  },
  {
   "cell_type": "code",
   "execution_count": 3,
   "metadata": {},
   "outputs": [],
   "source": [
    "#Настройка графиков\n",
    "se.set_style('darkgrid')\n",
    "#%config InlineBackend.figure_formats = 'png' # svg Не работает :(\n",
    "se.set(rc={'font.size': 8, \n",
    "           'figure.facecolor': 'white',\n",
    "           'figure.figsize': (10, 6),\n",
    "           'axes.edgecolor': 'black',\n",
    "           'axes.facecolor': 'white',\n",
    "           'axes.grid': True,\n",
    "           'grid.color': 'black',\n",
    "           'grid.linewidth': 0.5,\n",
    "           'grid.alpha': 0.3,\n",
    "           'grid.linestyle': '--',\n",
    "           'text.color': 'black',\n",
    "           'xtick.color': 'black',\n",
    "           'ytick.color': 'black',\n",
    "           'font.size': 10.0,\n",
    "           'xtick.bottom': True,\n",
    "           'xtick.top': False,\n",
    "           'ytick.left': True,\n",
    "           'ytick.right': True,\n",
    "           'lines.linewidth': 1, \n",
    "           'patch.edgecolor': 'w',\n",
    "           'lines.solid_capstyle': 'butt',\n",
    "           'patch.linewidth': 0.2})"
   ]
  },
  {
   "cell_type": "markdown",
   "metadata": {},
   "source": [
    "## Загрузка и подготовка данных"
   ]
  },
  {
   "cell_type": "code",
   "execution_count": 4,
   "metadata": {},
   "outputs": [],
   "source": [
    "try:\n",
    "    data0 = pd.read_csv(\"/datasets/geo_data_0.csv\")\n",
    "    data1 = pd.read_csv(\"/datasets/geo_data_1.csv\")\n",
    "    data2 = pd.read_csv(\"/datasets/geo_data_2.csv\")\n",
    "except:\n",
    "    data0 = pd.read_csv(\"C:\\\\Users\\\\Professional\\\\Desktop\\\\DataSet\\\\geo_data_0.csv\")\n",
    "    data1 = pd.read_csv(\"C:\\\\Users\\\\Professional\\\\Desktop\\\\DataSet\\\\geo_data_1.csv\")\n",
    "    data2 = pd.read_csv(\"C:\\\\Users\\\\Professional\\\\Desktop\\\\DataSet\\\\geo_data_2.csv\")\n",
    "finally:\n",
    "    data0 = clean_columns(data0)\n",
    "    data1 = clean_columns(data1)\n",
    "    data2 = clean_columns(data2)"
   ]
  },
  {
   "cell_type": "code",
   "execution_count": 5,
   "metadata": {
    "code_folding": []
   },
   "outputs": [],
   "source": [
    "def phik_help(df):  \n",
    "    \n",
    "    # матрица корреляции признаков\n",
    "    interval_cols = df.select_dtypes('number').columns.tolist()\n",
    "    phik_overview = df.drop(columns='id').phik_matrix(interval_cols=interval_cols)\n",
    "    \n",
    "    plot_correlation_matrix(phik_overview.values, \n",
    "                        x_labels=phik_overview.columns, \n",
    "                        y_labels=phik_overview.index, \n",
    "                        color_map=\"Greens\", \n",
    "                        title=r\"correlation $\\phi_K$\", \n",
    "                        fontsize_factor=1)\n",
    "\n",
    "    # статистическая значимость зависимостей\n",
    "    significance_overview = df.drop(columns='id').significance_matrix(interval_cols=interval_cols)\n",
    "    \n",
    "    plot_correlation_matrix(significance_overview.fillna(0).values, \n",
    "                        x_labels=significance_overview.columns, \n",
    "                        y_labels=significance_overview.index, \n",
    "                        title=\"Significance of the coefficients\", \n",
    "                        usetex=False, fontsize_factor=1)\n",
    "\n",
    "    # глобальный коэффициент корреляции\n",
    "    global_correlation, global_labels = df.drop(columns='id').global_phik(interval_cols=interval_cols)\n",
    "\n",
    "    \n",
    "    plot_correlation_matrix(global_correlation, \n",
    "                            x_labels=[''], y_labels=global_labels, \n",
    "                            color_map=\"Greens\", title=r\"$g_k$\",\n",
    "                            fontsize_factor=1)"
   ]
  },
  {
   "cell_type": "code",
   "execution_count": 6,
   "metadata": {},
   "outputs": [],
   "source": [
    "skim(data0)"
   ]
  },
  {
   "cell_type": "code",
   "execution_count": 7,
   "metadata": {},
   "outputs": [
    {
     "data": {
      "text/plain": [
       "array([[<AxesSubplot:title={'center':'f0'}>,\n",
       "        <AxesSubplot:title={'center':'f1'}>],\n",
       "       [<AxesSubplot:title={'center':'f2'}>,\n",
       "        <AxesSubplot:title={'center':'product'}>]], dtype=object)"
      ]
     },
     "execution_count": 7,
     "metadata": {},
     "output_type": "execute_result"
    },
    {
     "data": {
      "image/png": "[encoded data removed]",
      "text/plain": [
       "<Figure size 720x432 with 4 Axes>"
      ]
     },
     "metadata": {},
     "output_type": "display_data"
    }
   ],
   "source": [
    "data0.hist(bins=25)"
   ]
  },
  {
   "cell_type": "code",
   "execution_count": 8,
   "metadata": {},
   "outputs": [
    {
     "data": {
      "image/png": "[encoded data removed]",
      "text/plain": [
       "<Figure size 720x432 with 16 Axes>"
      ]
     },
     "metadata": {},
     "output_type": "display_data"
    }
   ],
   "source": [
    "matrix = pd.plotting.scatter_matrix(data0, diagonal = \"kde\",  alpha = 1)\n",
    "for ax in matrix.ravel():\n",
    "    ax.set_xlabel(ax.get_xlabel(), fontsize = 10, rotation = 0)\n",
    "    ax.set_ylabel(ax.get_ylabel(), fontsize = 10, rotation = 90)\n",
    "    ax.grid(False)"
   ]
  },
  {
   "cell_type": "code",
   "execution_count": 9,
   "metadata": {},
   "outputs": [],
   "source": [
    "#phik_help(data0)"
   ]
  },
  {
   "cell_type": "code",
   "execution_count": 10,
   "metadata": {},
   "outputs": [
    {
     "name": "stdout",
     "output_type": "stream",
     "text": [
      "Корреляция параметров между собой\n"
     ]
    },
    {
     "data": {
      "text/plain": [
       "<AxesSubplot:>"
      ]
     },
     "execution_count": 10,
     "metadata": {},
     "output_type": "execute_result"
    },
    {
     "data": {
      "image/png": "[encoded data removed]",
      "text/plain": [
       "<Figure size 720x432 with 2 Axes>"
      ]
     },
     "metadata": {},
     "output_type": "display_data"
    }
   ],
   "source": [
    "print(\"Корреляция параметров между собой\")\n",
    "se.heatmap(data0.corr(), cmap='coolwarm', annot=True, annot_kws={\"size\": 8})"
   ]
  },
  {
   "cell_type": "code",
   "execution_count": 11,
   "metadata": {},
   "outputs": [],
   "source": [
    "skim(data1)"
   ]
  },
  {
   "cell_type": "code",
   "execution_count": 12,
   "metadata": {},
   "outputs": [
    {
     "data": {
      "text/plain": [
       "array([[<AxesSubplot:title={'center':'f0'}>,\n",
       "        <AxesSubplot:title={'center':'f1'}>],\n",
       "       [<AxesSubplot:title={'center':'f2'}>,\n",
       "        <AxesSubplot:title={'center':'product'}>]], dtype=object)"
      ]
     },
     "execution_count": 12,
     "metadata": {},
     "output_type": "execute_result"
    },
    {
     "data": {
      "image/png": "[encoded data removed]",
      "text/plain": [
       "<Figure size 720x432 with 4 Axes>"
      ]
     },
     "metadata": {},
     "output_type": "display_data"
    }
   ],
   "source": [
    "data1.hist(bins=25)"
   ]
  },
  {
   "cell_type": "code",
   "execution_count": 13,
   "metadata": {},
   "outputs": [
    {
     "data": {
      "image/png": "[encoded data removed]",
      "text/plain": [
       "<Figure size 720x432 with 16 Axes>"
      ]
     },
     "metadata": {},
     "output_type": "display_data"
    }
   ],
   "source": [
    "matrix = pd.plotting.scatter_matrix(data1, diagonal = \"kde\",  alpha = 1)\n",
    "for ax in matrix.ravel():\n",
    "    ax.set_xlabel(ax.get_xlabel(), fontsize = 10, rotation = 0)\n",
    "    ax.set_ylabel(ax.get_ylabel(), fontsize = 10, rotation = 90)\n",
    "    ax.grid(False)"
   ]
  },
  {
   "cell_type": "code",
   "execution_count": 14,
   "metadata": {},
   "outputs": [],
   "source": [
    "#phik_help(data1)"
   ]
  },
  {
   "cell_type": "code",
   "execution_count": 15,
   "metadata": {},
   "outputs": [
    {
     "name": "stdout",
     "output_type": "stream",
     "text": [
      "Корреляция параметров между собой\n"
     ]
    },
    {
     "data": {
      "text/plain": [
       "<AxesSubplot:>"
      ]
     },
     "execution_count": 15,
     "metadata": {},
     "output_type": "execute_result"
    },
    {
     "data": {
      "image/png": "[encoded data removed]",
      "text/plain": [
       "<Figure size 720x432 with 2 Axes>"
      ]
     },
     "metadata": {},
     "output_type": "display_data"
    }
   ],
   "source": [
    "print(\"Корреляция параметров между собой\")\n",
    "se.heatmap(data1.corr(), cmap='coolwarm', annot=True, annot_kws={\"size\": 8})"
   ]
  },
  {
   "cell_type": "code",
   "execution_count": 16,
   "metadata": {},
   "outputs": [],
   "source": [
    "skim(data2)"
   ]
  },
  {
   "cell_type": "code",
   "execution_count": 17,
   "metadata": {},
   "outputs": [
    {
     "data": {
      "text/plain": [
       "array([[<AxesSubplot:title={'center':'f0'}>,\n",
       "        <AxesSubplot:title={'center':'f1'}>],\n",
       "       [<AxesSubplot:title={'center':'f2'}>,\n",
       "        <AxesSubplot:title={'center':'product'}>]], dtype=object)"
      ]
     },
     "execution_count": 17,
     "metadata": {},
     "output_type": "execute_result"
    },
    {
     "data": {
      "image/png": "[encoded data removed]",
      "text/plain": [
       "<Figure size 720x432 with 4 Axes>"
      ]
     },
     "metadata": {},
     "output_type": "display_data"
    }
   ],
   "source": [
    "data2.hist(bins=25)"
   ]
  },
  {
   "cell_type": "code",
   "execution_count": 18,
   "metadata": {},
   "outputs": [
    {
     "data": {
      "image/png": "[encoded data removed]",
      "text/plain": [
       "<Figure size 720x432 with 16 Axes>"
      ]
     },
     "metadata": {},
     "output_type": "display_data"
    }
   ],
   "source": [
    "matrix = pd.plotting.scatter_matrix(data2, diagonal = \"kde\",  alpha = 1)\n",
    "for ax in matrix.ravel():\n",
    "    ax.set_xlabel(ax.get_xlabel(), fontsize = 10, rotation = 0)\n",
    "    ax.set_ylabel(ax.get_ylabel(), fontsize = 10, rotation = 90)\n",
    "    ax.grid(False)"
   ]
  },
  {
   "cell_type": "code",
   "execution_count": 19,
   "metadata": {},
   "outputs": [],
   "source": [
    "#phik_help(data2)"
   ]
  },
  {
   "cell_type": "code",
   "execution_count": 20,
   "metadata": {},
   "outputs": [
    {
     "name": "stdout",
     "output_type": "stream",
     "text": [
      "Корреляция параметров между собой\n"
     ]
    },
    {
     "data": {
      "text/plain": [
       "<AxesSubplot:>"
      ]
     },
     "execution_count": 20,
     "metadata": {},
     "output_type": "execute_result"
    },
    {
     "data": {
      "image/png": "[encoded data removed]",
      "text/plain": [
       "<Figure size 720x432 with 2 Axes>"
      ]
     },
     "metadata": {},
     "output_type": "display_data"
    }
   ],
   "source": [
    "print(\"Корреляция параметров между собой\")\n",
    "se.heatmap(data2.corr(), cmap='coolwarm', annot=True, annot_kws={\"size\": 8})"
   ]
  },
  {
   "cell_type": "markdown",
   "metadata": {},
   "source": [
    "**Данные:**\n",
    "\n",
    "id — уникальный идентификатор скважины;  \n",
    "f0, f1, f2 — три признака точек (неважно, что они означают, но сами признаки значимы);  \n",
    "product — объём запасов в скважине (тыс. баррелей)."
   ]
  },
  {
   "cell_type": "markdown",
   "metadata": {},
   "source": [
    "### Дубликаты"
   ]
  },
  {
   "cell_type": "code",
   "execution_count": 21,
   "metadata": {},
   "outputs": [
    {
     "name": "stdout",
     "output_type": "stream",
     "text": [
      "0\n",
      "10\n"
     ]
    }
   ],
   "source": [
    "#Количество дубликатов по строкам и в столбце id для 1ого региона\n",
    "print(data0.duplicated().sum())\n",
    "print(data0['id'].duplicated().sum())"
   ]
  },
  {
   "cell_type": "code",
   "execution_count": 22,
   "metadata": {},
   "outputs": [
    {
     "name": "stdout",
     "output_type": "stream",
     "text": [
      "0\n",
      "4\n"
     ]
    }
   ],
   "source": [
    "#Количество дубликатов по строкам и в столбце id для 2ого региона\n",
    "print(data1.duplicated().sum())\n",
    "print(data1['id'].duplicated().sum())"
   ]
  },
  {
   "cell_type": "code",
   "execution_count": 23,
   "metadata": {},
   "outputs": [
    {
     "name": "stdout",
     "output_type": "stream",
     "text": [
      "0\n",
      "4\n"
     ]
    }
   ],
   "source": [
    "#Количество дубликатов по строкам и в столбце id для 3его региона\n",
    "print(data2.duplicated().sum())\n",
    "print(data2['id'].duplicated().sum())"
   ]
  },
  {
   "cell_type": "code",
   "execution_count": 24,
   "metadata": {},
   "outputs": [
    {
     "data": {
      "text/html": [
       "<div>\n",
       "<style scoped>\n",
       "    .dataframe tbody tr th:only-of-type {\n",
       "        vertical-align: middle;\n",
       "    }\n",
       "\n",
       "    .dataframe tbody tr th {\n",
       "        vertical-align: top;\n",
       "    }\n",
       "\n",
       "    .dataframe thead th {\n",
       "        text-align: right;\n",
       "    }\n",
       "</style>\n",
       "<table border=\"1\" class=\"dataframe\">\n",
       "  <thead>\n",
       "    <tr style=\"text-align: right;\">\n",
       "      <th></th>\n",
       "      <th>id</th>\n",
       "      <th>f0</th>\n",
       "      <th>f1</th>\n",
       "      <th>f2</th>\n",
       "      <th>product</th>\n",
       "    </tr>\n",
       "  </thead>\n",
       "  <tbody>\n",
       "    <tr>\n",
       "      <th>41906</th>\n",
       "      <td>LHZR0</td>\n",
       "      <td>-8.989672</td>\n",
       "      <td>-4.286607</td>\n",
       "      <td>2.009139</td>\n",
       "      <td>57.085625</td>\n",
       "    </tr>\n",
       "    <tr>\n",
       "      <th>82178</th>\n",
       "      <td>bfPNe</td>\n",
       "      <td>-6.202799</td>\n",
       "      <td>-4.820045</td>\n",
       "      <td>2.995107</td>\n",
       "      <td>84.038886</td>\n",
       "    </tr>\n",
       "    <tr>\n",
       "      <th>82873</th>\n",
       "      <td>wt4Uk</td>\n",
       "      <td>10.259972</td>\n",
       "      <td>-9.376355</td>\n",
       "      <td>4.994297</td>\n",
       "      <td>134.766305</td>\n",
       "    </tr>\n",
       "    <tr>\n",
       "      <th>84461</th>\n",
       "      <td>5ltQ6</td>\n",
       "      <td>18.213839</td>\n",
       "      <td>2.191999</td>\n",
       "      <td>3.993869</td>\n",
       "      <td>107.813044</td>\n",
       "    </tr>\n",
       "  </tbody>\n",
       "</table>\n",
       "</div>"
      ],
      "text/plain": [
       "          id         f0        f1        f2     product\n",
       "41906  LHZR0  -8.989672 -4.286607  2.009139   57.085625\n",
       "82178  bfPNe  -6.202799 -4.820045  2.995107   84.038886\n",
       "82873  wt4Uk  10.259972 -9.376355  4.994297  134.766305\n",
       "84461  5ltQ6  18.213839  2.191999  3.993869  107.813044"
      ]
     },
     "execution_count": 24,
     "metadata": {},
     "output_type": "execute_result"
    }
   ],
   "source": [
    "data1[data1['id'].duplicated()]"
   ]
  },
  {
   "cell_type": "code",
   "execution_count": 25,
   "metadata": {},
   "outputs": [
    {
     "data": {
      "text/html": [
       "<div>\n",
       "<style scoped>\n",
       "    .dataframe tbody tr th:only-of-type {\n",
       "        vertical-align: middle;\n",
       "    }\n",
       "\n",
       "    .dataframe tbody tr th {\n",
       "        vertical-align: top;\n",
       "    }\n",
       "\n",
       "    .dataframe thead th {\n",
       "        text-align: right;\n",
       "    }\n",
       "</style>\n",
       "<table border=\"1\" class=\"dataframe\">\n",
       "  <thead>\n",
       "    <tr style=\"text-align: right;\">\n",
       "      <th></th>\n",
       "      <th>id</th>\n",
       "      <th>f0</th>\n",
       "      <th>f1</th>\n",
       "      <th>f2</th>\n",
       "      <th>product</th>\n",
       "    </tr>\n",
       "  </thead>\n",
       "  <tbody>\n",
       "    <tr>\n",
       "      <th>1305</th>\n",
       "      <td>LHZR0</td>\n",
       "      <td>11.170835</td>\n",
       "      <td>-1.945066</td>\n",
       "      <td>3.002872</td>\n",
       "      <td>80.859783</td>\n",
       "    </tr>\n",
       "    <tr>\n",
       "      <th>41906</th>\n",
       "      <td>LHZR0</td>\n",
       "      <td>-8.989672</td>\n",
       "      <td>-4.286607</td>\n",
       "      <td>2.009139</td>\n",
       "      <td>57.085625</td>\n",
       "    </tr>\n",
       "  </tbody>\n",
       "</table>\n",
       "</div>"
      ],
      "text/plain": [
       "          id         f0        f1        f2    product\n",
       "1305   LHZR0  11.170835 -1.945066  3.002872  80.859783\n",
       "41906  LHZR0  -8.989672 -4.286607  2.009139  57.085625"
      ]
     },
     "execution_count": 25,
     "metadata": {},
     "output_type": "execute_result"
    }
   ],
   "source": [
    "data1.query('id == \"LHZR0\"')"
   ]
  },
  {
   "cell_type": "code",
   "execution_count": 26,
   "metadata": {},
   "outputs": [
    {
     "data": {
      "text/html": [
       "<div>\n",
       "<style scoped>\n",
       "    .dataframe tbody tr th:only-of-type {\n",
       "        vertical-align: middle;\n",
       "    }\n",
       "\n",
       "    .dataframe tbody tr th {\n",
       "        vertical-align: top;\n",
       "    }\n",
       "\n",
       "    .dataframe thead th {\n",
       "        text-align: right;\n",
       "    }\n",
       "</style>\n",
       "<table border=\"1\" class=\"dataframe\">\n",
       "  <thead>\n",
       "    <tr style=\"text-align: right;\">\n",
       "      <th></th>\n",
       "      <th>id</th>\n",
       "      <th>f0</th>\n",
       "      <th>f1</th>\n",
       "      <th>f2</th>\n",
       "      <th>product</th>\n",
       "    </tr>\n",
       "  </thead>\n",
       "  <tbody>\n",
       "    <tr>\n",
       "      <th>47591</th>\n",
       "      <td>wt4Uk</td>\n",
       "      <td>-9.091098</td>\n",
       "      <td>-8.109279</td>\n",
       "      <td>-0.002314</td>\n",
       "      <td>3.179103</td>\n",
       "    </tr>\n",
       "    <tr>\n",
       "      <th>82873</th>\n",
       "      <td>wt4Uk</td>\n",
       "      <td>10.259972</td>\n",
       "      <td>-9.376355</td>\n",
       "      <td>4.994297</td>\n",
       "      <td>134.766305</td>\n",
       "    </tr>\n",
       "  </tbody>\n",
       "</table>\n",
       "</div>"
      ],
      "text/plain": [
       "          id         f0        f1        f2     product\n",
       "47591  wt4Uk  -9.091098 -8.109279 -0.002314    3.179103\n",
       "82873  wt4Uk  10.259972 -9.376355  4.994297  134.766305"
      ]
     },
     "execution_count": 26,
     "metadata": {},
     "output_type": "execute_result"
    }
   ],
   "source": [
    "data1.query('id == \"wt4Uk\"')"
   ]
  },
  {
   "cell_type": "markdown",
   "metadata": {},
   "source": [
    "**Вывод**  \n",
    "\n",
    "Данные чистые, пропусков нет, дополнительная предобработка не требуется. Хочется отметить, что данные все очень разные и распределены неодинаково во всех регионах, и даже вышдядит немного странно. Выбивается второй регион, данные там распредлелены почти дискретно. В третьем регионе параметры f0 и f1 имеют какое-то ограничение для product < 40. C корреляцией параметров вообще что-то дикое твориться, параметр f2 очень сильно коорелирует с целевым параметров product, для второго региона она состовляет 1, что очень много. Также некоторые \"уникальные\" идентификаторы скважины повторяются, причем значения для них совершенно разные. Также корреляция фика показывает очень сильную зависиомть между столбцом id и product для первого и второго региона, а это вдвойне странно. \n",
    "\n",
    "Предворительно можно сказать, что для второго региона модель построиться без капризов, а вот с остальными будет сложнее. "
   ]
  },
  {
   "cell_type": "markdown",
   "metadata": {},
   "source": [
    "### Подготови данные"
   ]
  },
  {
   "cell_type": "markdown",
   "metadata": {},
   "source": [
    "**Условия задачи:**  \n",
    "1) Для обучения модели подходит только **линейная регрессия** (остальные — недостаточно предсказуемые).  \n",
    "2) При разведке региона исследуют 500 точек, из которых с помощью машинного обучения выбирают 200 лучших для разработки.  \n",
    "3) Бюджет на разработку скважин в регионе — 10 млрд рублей.  \n",
    "4) При нынешних ценах один баррель сырья приносит 450 рублей дохода. Доход с каждой единицы продукта составляет 450 тыс. рублей, поскольку объём указан в тысячах баррелей.  \n",
    "5) После оценки рисков нужно оставить лишь те регионы, в которых вероятность убытков меньше 2.5%. Среди них выбирают регион с наибольшей средней прибылью.  "
   ]
  },
  {
   "cell_type": "markdown",
   "metadata": {},
   "source": [
    "Разобьём данные на тренировочную и валидационную выборки."
   ]
  },
  {
   "cell_type": "code",
   "execution_count": 27,
   "metadata": {},
   "outputs": [],
   "source": [
    "def features_target(data):\n",
    "    features = data.drop(columns=['product', 'id'])\n",
    "    target = data['product']\n",
    "    features_train, features_valid, target_train, target_valid = train_test_split(\n",
    "                    features, target, test_size=0.25, random_state=42)\n",
    "    return features_train, features_valid, target_train, target_valid"
   ]
  },
  {
   "cell_type": "code",
   "execution_count": 28,
   "metadata": {},
   "outputs": [],
   "source": [
    "region_1_features_train, region_1_features_valid, region_1_target_train, region_1_target_valid = features_target(data0)\n",
    "region_2_features_train, region_2_features_valid, region_2_target_train, region_2_target_valid = features_target(data1)\n",
    "region_3_features_train, region_3_features_valid, region_3_target_train, region_3_target_valid = features_target(data2)"
   ]
  },
  {
   "cell_type": "markdown",
   "metadata": {},
   "source": [
    "## Обучение и проверка модели"
   ]
  },
  {
   "cell_type": "code",
   "execution_count": 29,
   "metadata": {},
   "outputs": [
    {
     "name": "stdout",
     "output_type": "stream",
     "text": [
      "RMSE = 37.75660035026169;  Mean = 92.39879990657768\n"
     ]
    }
   ],
   "source": [
    "model = LinearRegression()\n",
    "model.fit(region_1_features_train, region_1_target_train)\n",
    "pred_region_1 = pd.Series(model.predict(region_1_features_valid), index=region_1_features_valid.index)\n",
    "mean_pred_region_1 = np.mean(pred_region_1)\n",
    "print(f\"RMSE = {mean_squared_error(region_1_target_valid, pred_region_1)**0.5};  Mean = {mean_pred_region_1}\")"
   ]
  },
  {
   "cell_type": "code",
   "execution_count": 30,
   "metadata": {},
   "outputs": [
    {
     "name": "stdout",
     "output_type": "stream",
     "text": [
      "RMSE = 0.890280100102884;  Mean = 68.71287803913762\n"
     ]
    }
   ],
   "source": [
    "model = LinearRegression()\n",
    "model.fit(region_2_features_train, region_2_target_train)\n",
    "pred_region_2 = pd.Series(model.predict(region_2_features_valid), index=region_2_features_valid.index)\n",
    "mean_pred_region_2 = np.mean(pred_region_2)\n",
    "print(f\"RMSE = {mean_squared_error(region_2_target_valid, pred_region_2)**0.5};  Mean = {mean_pred_region_2}\")"
   ]
  },
  {
   "cell_type": "code",
   "execution_count": 31,
   "metadata": {},
   "outputs": [
    {
     "name": "stdout",
     "output_type": "stream",
     "text": [
      "RMSE = 40.145872311342174;  Mean = 94.77102387765939\n"
     ]
    }
   ],
   "source": [
    "model = LinearRegression()\n",
    "model.fit(region_3_features_train, region_3_target_train)\n",
    "pred_region_3 = pd.Series(model.predict(region_3_features_valid), index=region_3_features_valid.index)\n",
    "mean_pred_region_3 = np.mean(pred_region_3)\n",
    "print(f\"RMSE = {mean_squared_error(region_3_target_valid, pred_region_3)**0.5};  Mean = {mean_pred_region_3}\")"
   ]
  },
  {
   "cell_type": "markdown",
   "metadata": {},
   "source": [
    "**Вывод**  \n",
    "\n",
    "Для второго региона модель работает хорошо, ошибка очень маленькая. Для остальных регионов ошибка слишком большая. К сожалению мы ограничены условиями задачи и другие модели использовать не можем. "
   ]
  },
  {
   "cell_type": "markdown",
   "metadata": {},
   "source": [
    "## Подготовка к расчёту прибыли"
   ]
  },
  {
   "cell_type": "code",
   "execution_count": 32,
   "metadata": {},
   "outputs": [],
   "source": [
    "START_UP_CAPITAL = 10E9\n",
    "PRICE_OF_ONE_KiloBrrel = 450000\n",
    "MIN_NUMBER_OF_WELLS = int(START_UP_CAPITAL/PRICE_OF_ONE_KiloBrrel)"
   ]
  },
  {
   "cell_type": "code",
   "execution_count": 33,
   "metadata": {},
   "outputs": [
    {
     "name": "stdout",
     "output_type": "stream",
     "text": [
      "Эквивалент начальному вложению в единицах продукта - 22222\n"
     ]
    }
   ],
   "source": [
    "print(\"Эквивалент начальному вложению в единицах продукта -\", MIN_NUMBER_OF_WELLS )"
   ]
  },
  {
   "cell_type": "code",
   "execution_count": 34,
   "metadata": {},
   "outputs": [
    {
     "name": "stdout",
     "output_type": "stream",
     "text": [
      "Необходимое количество продукта в каждой скважине - 111.11\n"
     ]
    }
   ],
   "source": [
    "print(\"Необходимое количество продукта в каждой скважине -\", MIN_NUMBER_OF_WELLS/200)"
   ]
  },
  {
   "cell_type": "code",
   "execution_count": 35,
   "metadata": {},
   "outputs": [
    {
     "name": "stdout",
     "output_type": "stream",
     "text": [
      "Запас в регионе 1 равен 9250000\n",
      "Запас в регионе 2 равен 6882500\n",
      "Запас в регионе 3 равен 9500000\n"
     ]
    }
   ],
   "source": [
    "print(f\"Запас в регионе 1 равен {int(data0['product'].sum())}\")\n",
    "print(f\"Запас в регионе 2 равен {int(data1['product'].sum())}\")\n",
    "print(f\"Запас в регионе 3 равен {int(data2['product'].sum())}\")"
   ]
  },
  {
   "cell_type": "code",
   "execution_count": 36,
   "metadata": {},
   "outputs": [
    {
     "name": "stdout",
     "output_type": "stream",
     "text": [
      "Средний запас в регионе 1 одной скважины равен 92\n",
      "Средний запас в регионе 2 одной скважины равен 68\n",
      "Средний запас в регионе 3 одной скважины равен 95\n"
     ]
    }
   ],
   "source": [
    "print(f\"Средний запас в регионе 1 одной скважины равен {int(data0['product'].mean())}\")\n",
    "print(f\"Средний запас в регионе 2 одной скважины равен {int(data1['product'].mean())}\")\n",
    "print(f\"Средний запас в регионе 3 одной скважины равен {int(data2['product'].mean())}\")"
   ]
  },
  {
   "cell_type": "code",
   "execution_count": 37,
   "metadata": {},
   "outputs": [
    {
     "name": "stdout",
     "output_type": "stream",
     "text": [
      "Необходимое количество скважен в 1 регионе 241\n",
      "Необходимое количество скважен в 1 регионе 326\n",
      "Необходимое количество скважен в 1 регионе 233\n"
     ]
    }
   ],
   "source": [
    "print(f\"Необходимое количество скважен в 1 регионе {int(MIN_NUMBER_OF_WELLS/int(data0['product'].mean()))}\")\n",
    "print(f\"Необходимое количество скважен в 1 регионе {int(MIN_NUMBER_OF_WELLS/int(data1['product'].mean()))}\")\n",
    "print(f\"Необходимое количество скважен в 1 регионе {int(MIN_NUMBER_OF_WELLS/int(data2['product'].mean()))}\")"
   ]
  },
  {
   "cell_type": "markdown",
   "metadata": {},
   "source": [
    "**Вывод**  \n",
    "\n",
    "Итак, мы получили, что для того чтобы окупиться нам необходимо 22222 количество продукта, при этом мы может сделать только 200 скажин, поэтому в каждой скажине должно быть 111 количество продукта (Значения все средние, поэтому это не минимальное значение, а среднее). Видно, что это значение сильно отличается от средних значением в регионах, особенно 2ой регион, отличие почти в 2 раза. Конечно мы будем выбирать точки с макисамльнимы запасам, поэтому ситуация может улучшиться и мы уложимся в 200 точек. "
   ]
  },
  {
   "cell_type": "markdown",
   "metadata": {},
   "source": [
    "## Расчёт прибыли и рисков "
   ]
  },
  {
   "cell_type": "markdown",
   "metadata": {},
   "source": [
    "Напишите функцию для расчёта прибыли по выбранным скважинам и предсказаниям модели:  \n",
    "4.1. Выберите скважины с максимальными значениями предсказаний.  \n",
    "4.2. Просуммируйте *целевое значение* объёма сырья, соответствующее этим предсказаниям.  \n",
    "4.3. Рассчитайте прибыль для полученного объёма сырья.  \n",
    "\n",
    "Посчитайте риски и прибыль для каждого региона:  \n",
    "5.1. Примените технику Bootstrap с 1000 выборок, чтобы найти распределение прибыли.  \n",
    "5.2. Найдите среднюю прибыль, 95%-й доверительный интервал и риск убытков. Убыток — это отрицательная прибыль.  \n",
    "5.3. Напишите выводы: предложите регион для разработки скважин и обоснуйте выбор.  "
   ]
  },
  {
   "cell_type": "code",
   "execution_count": 38,
   "metadata": {},
   "outputs": [],
   "source": [
    "#Функция для рассчёта прибыли\n",
    "def profit(pred, target):\n",
    "    #лучшие из предсказанных\n",
    "    pred = pred.sample(500, replace=True,  random_state = state).sort_values(ascending=False)[:200]\n",
    "    #Количесвто продукта в 200 точках\n",
    "    sum_product = int(target[pred.index].sum())\n",
    "    #Прибыль\n",
    "    profit = sum_product*PRICE_OF_ONE_KiloBrrel-START_UP_CAPITAL\n",
    "    return profit"
   ]
  },
  {
   "cell_type": "markdown",
   "metadata": {},
   "source": [
    "При разведке региона исследуют 500 точек, из которых с помощью машинного обучения выбирают 200 лучших для разработки. Эти 500 точек будем выбирать из валидационной выорки, чтобы честно использовать результаты модели. Далее, отсортируем предсказания для них и возьмем 200 лучших. "
   ]
  },
  {
   "cell_type": "code",
   "execution_count": 39,
   "metadata": {},
   "outputs": [],
   "source": [
    "state = np.random.RandomState(42)"
   ]
  },
  {
   "cell_type": "code",
   "execution_count": 40,
   "metadata": {},
   "outputs": [
    {
     "name": "stdout",
     "output_type": "stream",
     "text": [
      "Вероятность убытков 6.1 %\n",
      "Среднее значение: 399349250.0\n",
      "95%-й доверительный интервал: -110484999.99999999 897323749.9999999\n",
      "Прибыль: 399349250.0\n"
     ]
    }
   ],
   "source": [
    "#Регион 1\n",
    "values = []\n",
    "count_loss = 0\n",
    "for i in range(1000):\n",
    "    prof = profit(pred_region_1, region_1_target_valid)   \n",
    "    values.append(prof)\n",
    "    if prof < 0:\n",
    "        count_loss +=1\n",
    "        \n",
    "values = pd.Series(values)\n",
    "print(\"Вероятность убытков\", round(count_loss/1000*100, 3), '%')\n",
    "print(\"Среднее значение:\", values.mean())\n",
    "\n",
    "lower = values.quantile(0.025)\n",
    "upper = values.quantile(0.975)\n",
    "print(\"95%-й доверительный интервал:\", lower, upper)\n",
    "\n",
    "print(\"Прибыль:\", values.mean())"
   ]
  },
  {
   "cell_type": "code",
   "execution_count": 41,
   "metadata": {},
   "outputs": [
    {
     "name": "stdout",
     "output_type": "stream",
     "text": [
      "Вероятность убытков 0.9 %\n",
      "Среднее значение: 452353850.0\n",
      "95%-й доверительный интервал\n",
      "Нижний: 109857500.00000001\n",
      "Верхний: 785667499.9999999\n",
      "Прибыль: 452353850.0\n"
     ]
    }
   ],
   "source": [
    "#Регион 2\n",
    "values = []\n",
    "count_loss = 0\n",
    "for i in range(1000):\n",
    "    prof = profit(pred_region_2, region_2_target_valid)   \n",
    "    values.append(prof)\n",
    "    if prof < 0:\n",
    "        count_loss +=1\n",
    "        \n",
    "values = pd.Series(values)\n",
    "print(\"Вероятность убытков\", round(count_loss/1000*100, 3), '%')\n",
    "print(\"Среднее значение:\", values.mean())\n",
    "\n",
    "lower = values.quantile(0.05)\n",
    "upper = values.quantile(0.95)\n",
    "print(\"95%-й доверительный интервал\")\n",
    "print(\"Нижний:\", lower)\n",
    "print(\"Верхний:\", upper)\n",
    "\n",
    "print(\"Прибыль:\", values.mean())"
   ]
  },
  {
   "cell_type": "code",
   "execution_count": 42,
   "metadata": {},
   "outputs": [
    {
     "name": "stdout",
     "output_type": "stream",
     "text": [
      "Вероятность убытков 7.5 %\n",
      "Среднее значение: 378485000.0\n",
      "95%-й доверительный интервал: -66767499.99999999 819934999.9999999\n",
      "Прибыль: 378485000.0\n"
     ]
    }
   ],
   "source": [
    "#Регион 3\n",
    "values = []\n",
    "count_loss = 0\n",
    "for i in range(1000):\n",
    "    prof = profit(pred_region_3, region_3_target_valid)   \n",
    "    values.append(prof)\n",
    "    if prof < 0:\n",
    "        count_loss +=1\n",
    "        \n",
    "values = pd.Series(values)\n",
    "print(\"Вероятность убытков\", round(count_loss/1000*100, 3), '%')\n",
    "print(\"Среднее значение:\", values.mean())\n",
    "\n",
    "lower = values.quantile(0.05)\n",
    "upper = values.quantile(0.95)\n",
    "print(\"95%-й доверительный интервал:\", lower, upper)\n",
    "\n",
    "print(\"Прибыль:\", values.mean())"
   ]
  },
  {
   "cell_type": "markdown",
   "metadata": {},
   "source": [
    "**Вывод**  \n",
    "\n",
    "Уже на стадии модели видно, что второй регион сильно выделяется на фоне других. Он имеет наименьшую вероятность убытков (около 1%) и наибольшее среднее значение прибыли (450млн руб). Если бы я был нефтяным магнатом, то выбрал бы этот регион. "
   ]
  }
 ],
 "metadata": {
  "ExecuteTimeLog": [
   {
    "duration": 4591,
    "start_time": "2022-12-18T22:59:02.857Z"
   },
   {
    "duration": 1519,
    "start_time": "2022-12-18T22:59:07.450Z"
   },
   {
    "duration": 0,
    "start_time": "2022-12-18T22:59:08.972Z"
   },
   {
    "duration": 0,
    "start_time": "2022-12-18T22:59:08.973Z"
   },
   {
    "duration": 0,
    "start_time": "2022-12-18T22:59:08.974Z"
   },
   {
    "duration": 0,
    "start_time": "2022-12-18T22:59:08.975Z"
   },
   {
    "duration": 0,
    "start_time": "2022-12-18T22:59:08.976Z"
   },
   {
    "duration": 0,
    "start_time": "2022-12-18T22:59:08.977Z"
   },
   {
    "duration": 0,
    "start_time": "2022-12-18T22:59:08.978Z"
   },
   {
    "duration": 1,
    "start_time": "2022-12-18T22:59:08.979Z"
   },
   {
    "duration": 0,
    "start_time": "2022-12-18T22:59:08.980Z"
   },
   {
    "duration": 0,
    "start_time": "2022-12-18T22:59:08.981Z"
   },
   {
    "duration": 0,
    "start_time": "2022-12-18T22:59:08.983Z"
   },
   {
    "duration": 0,
    "start_time": "2022-12-18T22:59:08.983Z"
   },
   {
    "duration": 0,
    "start_time": "2022-12-18T22:59:08.985Z"
   },
   {
    "duration": 0,
    "start_time": "2022-12-18T22:59:08.985Z"
   },
   {
    "duration": 0,
    "start_time": "2022-12-18T22:59:08.986Z"
   },
   {
    "duration": 0,
    "start_time": "2022-12-18T22:59:08.988Z"
   },
   {
    "duration": 0,
    "start_time": "2022-12-18T22:59:08.989Z"
   },
   {
    "duration": 0,
    "start_time": "2022-12-18T22:59:08.990Z"
   },
   {
    "duration": 0,
    "start_time": "2022-12-18T22:59:08.991Z"
   },
   {
    "duration": 0,
    "start_time": "2022-12-18T22:59:08.992Z"
   },
   {
    "duration": 0,
    "start_time": "2022-12-18T22:59:08.993Z"
   },
   {
    "duration": 0,
    "start_time": "2022-12-18T22:59:08.994Z"
   },
   {
    "duration": 0,
    "start_time": "2022-12-18T22:59:08.996Z"
   },
   {
    "duration": 0,
    "start_time": "2022-12-18T22:59:09.035Z"
   },
   {
    "duration": 0,
    "start_time": "2022-12-18T22:59:09.037Z"
   },
   {
    "duration": 0,
    "start_time": "2022-12-18T22:59:09.038Z"
   },
   {
    "duration": 0,
    "start_time": "2022-12-18T22:59:09.039Z"
   },
   {
    "duration": 0,
    "start_time": "2022-12-18T22:59:09.040Z"
   },
   {
    "duration": 0,
    "start_time": "2022-12-18T22:59:09.041Z"
   },
   {
    "duration": 0,
    "start_time": "2022-12-18T22:59:09.042Z"
   },
   {
    "duration": 0,
    "start_time": "2022-12-18T22:59:09.043Z"
   },
   {
    "duration": 0,
    "start_time": "2022-12-18T22:59:09.044Z"
   },
   {
    "duration": 1,
    "start_time": "2022-12-18T22:59:09.045Z"
   },
   {
    "duration": 0,
    "start_time": "2022-12-18T22:59:09.046Z"
   },
   {
    "duration": 0,
    "start_time": "2022-12-18T22:59:09.048Z"
   },
   {
    "duration": 3581,
    "start_time": "2022-12-19T00:06:13.044Z"
   },
   {
    "duration": 1265,
    "start_time": "2022-12-19T00:06:16.628Z"
   },
   {
    "duration": 0,
    "start_time": "2022-12-19T00:06:17.896Z"
   },
   {
    "duration": 0,
    "start_time": "2022-12-19T00:06:17.897Z"
   },
   {
    "duration": 0,
    "start_time": "2022-12-19T00:06:17.898Z"
   },
   {
    "duration": 0,
    "start_time": "2022-12-19T00:06:17.899Z"
   },
   {
    "duration": 0,
    "start_time": "2022-12-19T00:06:17.900Z"
   },
   {
    "duration": 0,
    "start_time": "2022-12-19T00:06:17.901Z"
   },
   {
    "duration": 0,
    "start_time": "2022-12-19T00:06:17.902Z"
   },
   {
    "duration": 0,
    "start_time": "2022-12-19T00:06:17.903Z"
   },
   {
    "duration": 0,
    "start_time": "2022-12-19T00:06:17.904Z"
   },
   {
    "duration": 0,
    "start_time": "2022-12-19T00:06:17.905Z"
   },
   {
    "duration": 0,
    "start_time": "2022-12-19T00:06:17.906Z"
   },
   {
    "duration": 0,
    "start_time": "2022-12-19T00:06:17.907Z"
   },
   {
    "duration": 0,
    "start_time": "2022-12-19T00:06:17.908Z"
   },
   {
    "duration": 0,
    "start_time": "2022-12-19T00:06:17.909Z"
   },
   {
    "duration": 0,
    "start_time": "2022-12-19T00:06:17.910Z"
   },
   {
    "duration": 0,
    "start_time": "2022-12-19T00:06:17.911Z"
   },
   {
    "duration": 0,
    "start_time": "2022-12-19T00:06:17.935Z"
   },
   {
    "duration": 0,
    "start_time": "2022-12-19T00:06:17.936Z"
   },
   {
    "duration": 0,
    "start_time": "2022-12-19T00:06:17.937Z"
   },
   {
    "duration": 0,
    "start_time": "2022-12-19T00:06:17.938Z"
   },
   {
    "duration": 0,
    "start_time": "2022-12-19T00:06:17.940Z"
   },
   {
    "duration": 0,
    "start_time": "2022-12-19T00:06:17.941Z"
   },
   {
    "duration": 0,
    "start_time": "2022-12-19T00:06:17.942Z"
   },
   {
    "duration": 0,
    "start_time": "2022-12-19T00:06:17.943Z"
   },
   {
    "duration": 0,
    "start_time": "2022-12-19T00:06:17.944Z"
   },
   {
    "duration": 0,
    "start_time": "2022-12-19T00:06:17.945Z"
   },
   {
    "duration": 0,
    "start_time": "2022-12-19T00:06:17.946Z"
   },
   {
    "duration": 0,
    "start_time": "2022-12-19T00:06:17.947Z"
   },
   {
    "duration": 0,
    "start_time": "2022-12-19T00:06:17.948Z"
   },
   {
    "duration": 0,
    "start_time": "2022-12-19T00:06:17.949Z"
   },
   {
    "duration": 0,
    "start_time": "2022-12-19T00:06:17.950Z"
   },
   {
    "duration": 0,
    "start_time": "2022-12-19T00:06:17.951Z"
   },
   {
    "duration": 0,
    "start_time": "2022-12-19T00:06:17.952Z"
   },
   {
    "duration": 0,
    "start_time": "2022-12-19T00:06:17.953Z"
   },
   {
    "duration": 0,
    "start_time": "2022-12-19T00:06:17.954Z"
   },
   {
    "duration": 3599,
    "start_time": "2022-12-19T00:06:52.415Z"
   },
   {
    "duration": 1313,
    "start_time": "2022-12-19T00:06:56.017Z"
   },
   {
    "duration": 0,
    "start_time": "2022-12-19T00:06:57.335Z"
   },
   {
    "duration": 0,
    "start_time": "2022-12-19T00:06:57.336Z"
   },
   {
    "duration": 0,
    "start_time": "2022-12-19T00:06:57.337Z"
   },
   {
    "duration": 0,
    "start_time": "2022-12-19T00:06:57.338Z"
   },
   {
    "duration": 0,
    "start_time": "2022-12-19T00:06:57.340Z"
   },
   {
    "duration": 0,
    "start_time": "2022-12-19T00:06:57.341Z"
   },
   {
    "duration": 0,
    "start_time": "2022-12-19T00:06:57.342Z"
   },
   {
    "duration": 0,
    "start_time": "2022-12-19T00:06:57.343Z"
   },
   {
    "duration": 0,
    "start_time": "2022-12-19T00:06:57.344Z"
   },
   {
    "duration": 0,
    "start_time": "2022-12-19T00:06:57.345Z"
   },
   {
    "duration": 0,
    "start_time": "2022-12-19T00:06:57.346Z"
   },
   {
    "duration": 0,
    "start_time": "2022-12-19T00:06:57.347Z"
   },
   {
    "duration": 0,
    "start_time": "2022-12-19T00:06:57.348Z"
   },
   {
    "duration": 0,
    "start_time": "2022-12-19T00:06:57.349Z"
   },
   {
    "duration": 0,
    "start_time": "2022-12-19T00:06:57.351Z"
   },
   {
    "duration": 0,
    "start_time": "2022-12-19T00:06:57.352Z"
   },
   {
    "duration": 0,
    "start_time": "2022-12-19T00:06:57.353Z"
   },
   {
    "duration": 0,
    "start_time": "2022-12-19T00:06:57.354Z"
   },
   {
    "duration": 0,
    "start_time": "2022-12-19T00:06:57.355Z"
   },
   {
    "duration": 0,
    "start_time": "2022-12-19T00:06:57.356Z"
   },
   {
    "duration": 0,
    "start_time": "2022-12-19T00:06:57.358Z"
   },
   {
    "duration": 0,
    "start_time": "2022-12-19T00:06:57.359Z"
   },
   {
    "duration": 0,
    "start_time": "2022-12-19T00:06:57.360Z"
   },
   {
    "duration": 0,
    "start_time": "2022-12-19T00:06:57.361Z"
   },
   {
    "duration": 0,
    "start_time": "2022-12-19T00:06:57.362Z"
   },
   {
    "duration": 0,
    "start_time": "2022-12-19T00:06:57.364Z"
   },
   {
    "duration": 0,
    "start_time": "2022-12-19T00:06:57.365Z"
   },
   {
    "duration": 0,
    "start_time": "2022-12-19T00:06:57.367Z"
   },
   {
    "duration": 0,
    "start_time": "2022-12-19T00:06:57.369Z"
   },
   {
    "duration": 0,
    "start_time": "2022-12-19T00:06:57.370Z"
   },
   {
    "duration": 0,
    "start_time": "2022-12-19T00:06:57.372Z"
   },
   {
    "duration": 0,
    "start_time": "2022-12-19T00:06:57.436Z"
   },
   {
    "duration": 0,
    "start_time": "2022-12-19T00:06:57.437Z"
   },
   {
    "duration": 0,
    "start_time": "2022-12-19T00:06:57.438Z"
   },
   {
    "duration": 0,
    "start_time": "2022-12-19T00:06:57.439Z"
   },
   {
    "duration": 5577,
    "start_time": "2022-12-19T11:40:02.057Z"
   },
   {
    "duration": 1505,
    "start_time": "2022-12-19T11:40:07.636Z"
   },
   {
    "duration": 0,
    "start_time": "2022-12-19T11:40:09.143Z"
   },
   {
    "duration": 1,
    "start_time": "2022-12-19T11:40:09.144Z"
   },
   {
    "duration": 0,
    "start_time": "2022-12-19T11:40:09.145Z"
   },
   {
    "duration": 0,
    "start_time": "2022-12-19T11:40:09.152Z"
   },
   {
    "duration": 0,
    "start_time": "2022-12-19T11:40:09.153Z"
   },
   {
    "duration": 0,
    "start_time": "2022-12-19T11:40:09.154Z"
   },
   {
    "duration": 0,
    "start_time": "2022-12-19T11:40:09.155Z"
   },
   {
    "duration": 0,
    "start_time": "2022-12-19T11:40:09.156Z"
   },
   {
    "duration": 0,
    "start_time": "2022-12-19T11:40:09.157Z"
   },
   {
    "duration": 0,
    "start_time": "2022-12-19T11:40:09.158Z"
   },
   {
    "duration": 0,
    "start_time": "2022-12-19T11:40:09.159Z"
   },
   {
    "duration": 0,
    "start_time": "2022-12-19T11:40:09.160Z"
   },
   {
    "duration": 0,
    "start_time": "2022-12-19T11:40:09.161Z"
   },
   {
    "duration": 0,
    "start_time": "2022-12-19T11:40:09.162Z"
   },
   {
    "duration": 0,
    "start_time": "2022-12-19T11:40:09.163Z"
   },
   {
    "duration": 0,
    "start_time": "2022-12-19T11:40:09.164Z"
   },
   {
    "duration": 0,
    "start_time": "2022-12-19T11:40:09.165Z"
   },
   {
    "duration": 0,
    "start_time": "2022-12-19T11:40:09.166Z"
   },
   {
    "duration": 0,
    "start_time": "2022-12-19T11:40:09.167Z"
   },
   {
    "duration": 0,
    "start_time": "2022-12-19T11:40:09.168Z"
   },
   {
    "duration": 0,
    "start_time": "2022-12-19T11:40:09.169Z"
   },
   {
    "duration": 0,
    "start_time": "2022-12-19T11:40:09.170Z"
   },
   {
    "duration": 0,
    "start_time": "2022-12-19T11:40:09.171Z"
   },
   {
    "duration": 0,
    "start_time": "2022-12-19T11:40:09.172Z"
   },
   {
    "duration": 0,
    "start_time": "2022-12-19T11:40:09.172Z"
   },
   {
    "duration": 0,
    "start_time": "2022-12-19T11:40:09.173Z"
   },
   {
    "duration": 0,
    "start_time": "2022-12-19T11:40:09.174Z"
   },
   {
    "duration": 0,
    "start_time": "2022-12-19T11:40:09.176Z"
   },
   {
    "duration": 0,
    "start_time": "2022-12-19T11:40:09.176Z"
   },
   {
    "duration": 0,
    "start_time": "2022-12-19T11:40:09.177Z"
   },
   {
    "duration": 0,
    "start_time": "2022-12-19T11:40:09.178Z"
   },
   {
    "duration": 0,
    "start_time": "2022-12-19T11:40:09.179Z"
   },
   {
    "duration": 0,
    "start_time": "2022-12-19T11:40:09.180Z"
   },
   {
    "duration": 0,
    "start_time": "2022-12-19T11:40:09.181Z"
   },
   {
    "duration": 0,
    "start_time": "2022-12-19T11:40:09.182Z"
   },
   {
    "duration": 3680,
    "start_time": "2022-12-19T11:40:38.030Z"
   },
   {
    "duration": 1148,
    "start_time": "2022-12-19T11:40:41.713Z"
   },
   {
    "duration": 0,
    "start_time": "2022-12-19T11:40:42.863Z"
   },
   {
    "duration": 0,
    "start_time": "2022-12-19T11:40:42.864Z"
   },
   {
    "duration": 0,
    "start_time": "2022-12-19T11:40:42.865Z"
   },
   {
    "duration": 0,
    "start_time": "2022-12-19T11:40:42.867Z"
   },
   {
    "duration": 0,
    "start_time": "2022-12-19T11:40:42.868Z"
   },
   {
    "duration": 0,
    "start_time": "2022-12-19T11:40:42.869Z"
   },
   {
    "duration": 0,
    "start_time": "2022-12-19T11:40:42.870Z"
   },
   {
    "duration": 0,
    "start_time": "2022-12-19T11:40:42.871Z"
   },
   {
    "duration": 0,
    "start_time": "2022-12-19T11:40:42.872Z"
   },
   {
    "duration": 0,
    "start_time": "2022-12-19T11:40:42.873Z"
   },
   {
    "duration": 0,
    "start_time": "2022-12-19T11:40:42.874Z"
   },
   {
    "duration": 0,
    "start_time": "2022-12-19T11:40:42.875Z"
   },
   {
    "duration": 0,
    "start_time": "2022-12-19T11:40:42.876Z"
   },
   {
    "duration": 0,
    "start_time": "2022-12-19T11:40:42.877Z"
   },
   {
    "duration": 0,
    "start_time": "2022-12-19T11:40:42.878Z"
   },
   {
    "duration": 0,
    "start_time": "2022-12-19T11:40:42.880Z"
   },
   {
    "duration": 0,
    "start_time": "2022-12-19T11:40:42.880Z"
   },
   {
    "duration": 0,
    "start_time": "2022-12-19T11:40:42.881Z"
   },
   {
    "duration": 0,
    "start_time": "2022-12-19T11:40:42.882Z"
   },
   {
    "duration": 0,
    "start_time": "2022-12-19T11:40:42.883Z"
   },
   {
    "duration": 0,
    "start_time": "2022-12-19T11:40:42.884Z"
   },
   {
    "duration": 0,
    "start_time": "2022-12-19T11:40:42.885Z"
   },
   {
    "duration": 0,
    "start_time": "2022-12-19T11:40:42.886Z"
   },
   {
    "duration": 0,
    "start_time": "2022-12-19T11:40:42.887Z"
   },
   {
    "duration": 0,
    "start_time": "2022-12-19T11:40:42.888Z"
   },
   {
    "duration": 0,
    "start_time": "2022-12-19T11:40:42.889Z"
   },
   {
    "duration": 0,
    "start_time": "2022-12-19T11:40:42.891Z"
   },
   {
    "duration": 0,
    "start_time": "2022-12-19T11:40:42.892Z"
   },
   {
    "duration": 0,
    "start_time": "2022-12-19T11:40:42.893Z"
   },
   {
    "duration": 0,
    "start_time": "2022-12-19T11:40:42.894Z"
   },
   {
    "duration": 0,
    "start_time": "2022-12-19T11:40:42.895Z"
   },
   {
    "duration": 0,
    "start_time": "2022-12-19T11:40:42.896Z"
   },
   {
    "duration": 0,
    "start_time": "2022-12-19T11:40:42.897Z"
   },
   {
    "duration": 0,
    "start_time": "2022-12-19T11:40:42.953Z"
   },
   {
    "duration": 0,
    "start_time": "2022-12-19T11:40:42.954Z"
   },
   {
    "duration": 1963,
    "start_time": "2022-12-19T11:41:25.444Z"
   },
   {
    "duration": 2838,
    "start_time": "2022-12-19T11:41:38.938Z"
   },
   {
    "duration": 1762,
    "start_time": "2022-12-19T11:41:41.779Z"
   },
   {
    "duration": 0,
    "start_time": "2022-12-19T11:41:43.544Z"
   },
   {
    "duration": 0,
    "start_time": "2022-12-19T11:41:43.545Z"
   },
   {
    "duration": 0,
    "start_time": "2022-12-19T11:41:43.546Z"
   },
   {
    "duration": 0,
    "start_time": "2022-12-19T11:41:43.548Z"
   },
   {
    "duration": 0,
    "start_time": "2022-12-19T11:41:43.552Z"
   },
   {
    "duration": 0,
    "start_time": "2022-12-19T11:41:43.553Z"
   },
   {
    "duration": 0,
    "start_time": "2022-12-19T11:41:43.554Z"
   },
   {
    "duration": 0,
    "start_time": "2022-12-19T11:41:43.555Z"
   },
   {
    "duration": 0,
    "start_time": "2022-12-19T11:41:43.556Z"
   },
   {
    "duration": 0,
    "start_time": "2022-12-19T11:41:43.557Z"
   },
   {
    "duration": 0,
    "start_time": "2022-12-19T11:41:43.558Z"
   },
   {
    "duration": 0,
    "start_time": "2022-12-19T11:41:43.559Z"
   },
   {
    "duration": 1,
    "start_time": "2022-12-19T11:41:43.559Z"
   },
   {
    "duration": 0,
    "start_time": "2022-12-19T11:41:43.561Z"
   },
   {
    "duration": 0,
    "start_time": "2022-12-19T11:41:43.562Z"
   },
   {
    "duration": 0,
    "start_time": "2022-12-19T11:41:43.563Z"
   },
   {
    "duration": 0,
    "start_time": "2022-12-19T11:41:43.564Z"
   },
   {
    "duration": 0,
    "start_time": "2022-12-19T11:41:43.566Z"
   },
   {
    "duration": 0,
    "start_time": "2022-12-19T11:41:43.567Z"
   },
   {
    "duration": 0,
    "start_time": "2022-12-19T11:41:43.568Z"
   },
   {
    "duration": 0,
    "start_time": "2022-12-19T11:41:43.569Z"
   },
   {
    "duration": 0,
    "start_time": "2022-12-19T11:41:43.570Z"
   },
   {
    "duration": 0,
    "start_time": "2022-12-19T11:41:43.571Z"
   },
   {
    "duration": 0,
    "start_time": "2022-12-19T11:41:43.572Z"
   },
   {
    "duration": 0,
    "start_time": "2022-12-19T11:41:43.573Z"
   },
   {
    "duration": 0,
    "start_time": "2022-12-19T11:41:43.574Z"
   },
   {
    "duration": 0,
    "start_time": "2022-12-19T11:41:43.574Z"
   },
   {
    "duration": 0,
    "start_time": "2022-12-19T11:41:43.575Z"
   },
   {
    "duration": 0,
    "start_time": "2022-12-19T11:41:43.577Z"
   },
   {
    "duration": 0,
    "start_time": "2022-12-19T11:41:43.578Z"
   },
   {
    "duration": 0,
    "start_time": "2022-12-19T11:41:43.579Z"
   },
   {
    "duration": 0,
    "start_time": "2022-12-19T11:41:43.580Z"
   },
   {
    "duration": 0,
    "start_time": "2022-12-19T11:41:43.582Z"
   },
   {
    "duration": 0,
    "start_time": "2022-12-19T11:41:43.583Z"
   },
   {
    "duration": 0,
    "start_time": "2022-12-19T11:41:43.584Z"
   },
   {
    "duration": 2336,
    "start_time": "2022-12-19T11:42:15.129Z"
   },
   {
    "duration": 516,
    "start_time": "2022-12-19T11:42:17.467Z"
   },
   {
    "duration": 6,
    "start_time": "2022-12-19T11:42:17.985Z"
   },
   {
    "duration": 493,
    "start_time": "2022-12-19T11:42:17.993Z"
   },
   {
    "duration": 5,
    "start_time": "2022-12-19T11:42:18.489Z"
   },
   {
    "duration": 30,
    "start_time": "2022-12-19T11:42:18.496Z"
   },
   {
    "duration": 0,
    "start_time": "2022-12-19T11:42:18.528Z"
   },
   {
    "duration": 0,
    "start_time": "2022-12-19T11:42:18.530Z"
   },
   {
    "duration": 0,
    "start_time": "2022-12-19T11:42:18.531Z"
   },
   {
    "duration": 0,
    "start_time": "2022-12-19T11:42:18.532Z"
   },
   {
    "duration": 0,
    "start_time": "2022-12-19T11:42:18.533Z"
   },
   {
    "duration": 0,
    "start_time": "2022-12-19T11:42:18.534Z"
   },
   {
    "duration": 0,
    "start_time": "2022-12-19T11:42:18.534Z"
   },
   {
    "duration": 0,
    "start_time": "2022-12-19T11:42:18.535Z"
   },
   {
    "duration": 0,
    "start_time": "2022-12-19T11:42:18.536Z"
   },
   {
    "duration": 0,
    "start_time": "2022-12-19T11:42:18.552Z"
   },
   {
    "duration": 0,
    "start_time": "2022-12-19T11:42:18.553Z"
   },
   {
    "duration": 0,
    "start_time": "2022-12-19T11:42:18.555Z"
   },
   {
    "duration": 0,
    "start_time": "2022-12-19T11:42:18.555Z"
   },
   {
    "duration": 0,
    "start_time": "2022-12-19T11:42:18.556Z"
   },
   {
    "duration": 0,
    "start_time": "2022-12-19T11:42:18.557Z"
   },
   {
    "duration": 0,
    "start_time": "2022-12-19T11:42:18.558Z"
   },
   {
    "duration": 0,
    "start_time": "2022-12-19T11:42:18.559Z"
   },
   {
    "duration": 0,
    "start_time": "2022-12-19T11:42:18.560Z"
   },
   {
    "duration": 0,
    "start_time": "2022-12-19T11:42:18.561Z"
   },
   {
    "duration": 0,
    "start_time": "2022-12-19T11:42:18.562Z"
   },
   {
    "duration": 0,
    "start_time": "2022-12-19T11:42:18.563Z"
   },
   {
    "duration": 1,
    "start_time": "2022-12-19T11:42:18.563Z"
   },
   {
    "duration": 0,
    "start_time": "2022-12-19T11:42:18.564Z"
   },
   {
    "duration": 0,
    "start_time": "2022-12-19T11:42:18.565Z"
   },
   {
    "duration": 0,
    "start_time": "2022-12-19T11:42:18.566Z"
   },
   {
    "duration": 0,
    "start_time": "2022-12-19T11:42:18.567Z"
   },
   {
    "duration": 0,
    "start_time": "2022-12-19T11:42:18.568Z"
   },
   {
    "duration": 0,
    "start_time": "2022-12-19T11:42:18.569Z"
   },
   {
    "duration": 0,
    "start_time": "2022-12-19T11:42:18.570Z"
   },
   {
    "duration": 0,
    "start_time": "2022-12-19T11:42:18.571Z"
   },
   {
    "duration": 0,
    "start_time": "2022-12-19T11:42:18.572Z"
   },
   {
    "duration": 1867,
    "start_time": "2022-12-19T11:42:39.590Z"
   },
   {
    "duration": 4,
    "start_time": "2022-12-19T11:42:41.460Z"
   },
   {
    "duration": 15,
    "start_time": "2022-12-19T11:42:41.465Z"
   },
   {
    "duration": 682,
    "start_time": "2022-12-19T11:42:41.482Z"
   },
   {
    "duration": 5,
    "start_time": "2022-12-19T11:42:42.166Z"
   },
   {
    "duration": 15,
    "start_time": "2022-12-19T11:42:42.172Z"
   },
   {
    "duration": 963,
    "start_time": "2022-12-19T11:42:42.189Z"
   },
   {
    "duration": 11038,
    "start_time": "2022-12-19T11:42:43.153Z"
   },
   {
    "duration": 0,
    "start_time": "2022-12-19T11:45:10.372Z"
   },
   {
    "duration": 0,
    "start_time": "2022-12-19T11:45:10.374Z"
   },
   {
    "duration": 0,
    "start_time": "2022-12-19T11:45:10.375Z"
   },
   {
    "duration": 1,
    "start_time": "2022-12-19T11:45:10.376Z"
   },
   {
    "duration": 0,
    "start_time": "2022-12-19T11:45:10.378Z"
   },
   {
    "duration": 0,
    "start_time": "2022-12-19T11:45:10.380Z"
   },
   {
    "duration": 0,
    "start_time": "2022-12-19T11:45:10.381Z"
   },
   {
    "duration": 0,
    "start_time": "2022-12-19T11:45:10.382Z"
   },
   {
    "duration": 0,
    "start_time": "2022-12-19T11:45:10.384Z"
   },
   {
    "duration": 0,
    "start_time": "2022-12-19T11:45:10.385Z"
   },
   {
    "duration": 0,
    "start_time": "2022-12-19T11:45:10.387Z"
   },
   {
    "duration": 0,
    "start_time": "2022-12-19T11:45:10.387Z"
   },
   {
    "duration": 0,
    "start_time": "2022-12-19T11:45:10.389Z"
   },
   {
    "duration": 0,
    "start_time": "2022-12-19T11:45:10.389Z"
   },
   {
    "duration": 0,
    "start_time": "2022-12-19T11:45:10.390Z"
   },
   {
    "duration": 0,
    "start_time": "2022-12-19T11:45:10.391Z"
   },
   {
    "duration": 0,
    "start_time": "2022-12-19T11:45:10.392Z"
   },
   {
    "duration": 0,
    "start_time": "2022-12-19T11:45:10.393Z"
   },
   {
    "duration": 0,
    "start_time": "2022-12-19T11:45:10.453Z"
   },
   {
    "duration": 0,
    "start_time": "2022-12-19T11:45:10.454Z"
   },
   {
    "duration": 0,
    "start_time": "2022-12-19T11:45:10.456Z"
   },
   {
    "duration": 0,
    "start_time": "2022-12-19T11:45:10.457Z"
   },
   {
    "duration": 0,
    "start_time": "2022-12-19T11:45:10.459Z"
   },
   {
    "duration": 0,
    "start_time": "2022-12-19T11:45:10.460Z"
   },
   {
    "duration": 0,
    "start_time": "2022-12-19T11:45:10.461Z"
   },
   {
    "duration": 0,
    "start_time": "2022-12-19T11:45:10.462Z"
   },
   {
    "duration": 0,
    "start_time": "2022-12-19T11:45:10.464Z"
   },
   {
    "duration": 0,
    "start_time": "2022-12-19T11:45:10.465Z"
   },
   {
    "duration": 0,
    "start_time": "2022-12-19T11:45:10.466Z"
   },
   {
    "duration": 0,
    "start_time": "2022-12-19T11:45:10.468Z"
   },
   {
    "duration": 0,
    "start_time": "2022-12-19T11:45:10.469Z"
   },
   {
    "duration": 0,
    "start_time": "2022-12-19T11:45:10.470Z"
   },
   {
    "duration": 0,
    "start_time": "2022-12-19T11:45:10.472Z"
   },
   {
    "duration": 0,
    "start_time": "2022-12-19T11:45:10.474Z"
   },
   {
    "duration": 0,
    "start_time": "2022-12-19T11:45:10.474Z"
   },
   {
    "duration": 0,
    "start_time": "2022-12-19T11:45:10.475Z"
   },
   {
    "duration": 0,
    "start_time": "2022-12-19T11:45:10.476Z"
   },
   {
    "duration": 2,
    "start_time": "2022-12-19T11:46:20.760Z"
   },
   {
    "duration": 8,
    "start_time": "2022-12-19T11:46:20.765Z"
   },
   {
    "duration": 6,
    "start_time": "2022-12-19T11:46:20.775Z"
   },
   {
    "duration": 361,
    "start_time": "2022-12-19T11:46:20.783Z"
   },
   {
    "duration": 3,
    "start_time": "2022-12-19T11:46:21.146Z"
   },
   {
    "duration": 8,
    "start_time": "2022-12-19T11:46:21.151Z"
   },
   {
    "duration": 462,
    "start_time": "2022-12-19T11:46:21.161Z"
   },
   {
    "duration": 10423,
    "start_time": "2022-12-19T11:46:21.624Z"
   },
   {
    "duration": 3,
    "start_time": "2022-12-19T11:46:32.048Z"
   },
   {
    "duration": 340,
    "start_time": "2022-12-19T11:46:32.052Z"
   },
   {
    "duration": 4,
    "start_time": "2022-12-19T11:46:32.393Z"
   },
   {
    "duration": 591,
    "start_time": "2022-12-19T11:46:32.399Z"
   },
   {
    "duration": 10738,
    "start_time": "2022-12-19T11:46:32.991Z"
   },
   {
    "duration": 3,
    "start_time": "2022-12-19T11:46:43.732Z"
   },
   {
    "duration": 363,
    "start_time": "2022-12-19T11:46:43.737Z"
   },
   {
    "duration": 2,
    "start_time": "2022-12-19T11:46:44.102Z"
   },
   {
    "duration": 554,
    "start_time": "2022-12-19T11:46:44.106Z"
   },
   {
    "duration": 11680,
    "start_time": "2022-12-19T11:46:44.662Z"
   },
   {
    "duration": 10,
    "start_time": "2022-12-19T11:46:56.343Z"
   },
   {
    "duration": 507,
    "start_time": "2022-12-19T11:46:56.354Z"
   },
   {
    "duration": 55,
    "start_time": "2022-12-19T11:46:56.862Z"
   },
   {
    "duration": 81,
    "start_time": "2022-12-19T11:46:56.919Z"
   },
   {
    "duration": 66,
    "start_time": "2022-12-19T11:46:57.002Z"
   },
   {
    "duration": 24,
    "start_time": "2022-12-19T11:46:57.070Z"
   },
   {
    "duration": 30,
    "start_time": "2022-12-19T11:46:57.097Z"
   },
   {
    "duration": 20,
    "start_time": "2022-12-19T11:46:57.128Z"
   },
   {
    "duration": 15,
    "start_time": "2022-12-19T11:46:57.151Z"
   },
   {
    "duration": 38,
    "start_time": "2022-12-19T11:46:57.169Z"
   },
   {
    "duration": 147,
    "start_time": "2022-12-19T11:46:57.210Z"
   },
   {
    "duration": 101,
    "start_time": "2022-12-19T11:46:57.359Z"
   },
   {
    "duration": 97,
    "start_time": "2022-12-19T11:46:57.463Z"
   },
   {
    "duration": 92,
    "start_time": "2022-12-19T11:46:57.562Z"
   },
   {
    "duration": 98,
    "start_time": "2022-12-19T11:46:57.656Z"
   },
   {
    "duration": 9,
    "start_time": "2022-12-19T11:46:57.757Z"
   },
   {
    "duration": 8,
    "start_time": "2022-12-19T11:46:57.768Z"
   },
   {
    "duration": 12,
    "start_time": "2022-12-19T11:46:57.778Z"
   },
   {
    "duration": 6,
    "start_time": "2022-12-19T11:46:57.792Z"
   },
   {
    "duration": 685,
    "start_time": "2022-12-19T11:46:57.800Z"
   },
   {
    "duration": 669,
    "start_time": "2022-12-19T11:46:58.487Z"
   },
   {
    "duration": 1396,
    "start_time": "2022-12-19T11:46:59.157Z"
   },
   {
    "duration": 4,
    "start_time": "2022-12-19T11:48:51.072Z"
   },
   {
    "duration": 1379,
    "start_time": "2022-12-19T11:48:51.078Z"
   },
   {
    "duration": 12,
    "start_time": "2022-12-19T11:48:52.459Z"
   },
   {
    "duration": 681,
    "start_time": "2022-12-19T11:48:52.473Z"
   },
   {
    "duration": 3,
    "start_time": "2022-12-19T11:48:53.157Z"
   },
   {
    "duration": 10,
    "start_time": "2022-12-19T11:48:53.162Z"
   },
   {
    "duration": 1080,
    "start_time": "2022-12-19T11:48:53.174Z"
   },
   {
    "duration": 9911,
    "start_time": "2022-12-19T11:48:54.256Z"
   },
   {
    "duration": 3,
    "start_time": "2022-12-19T11:49:04.168Z"
   },
   {
    "duration": 371,
    "start_time": "2022-12-19T11:49:04.172Z"
   },
   {
    "duration": 8,
    "start_time": "2022-12-19T11:49:04.545Z"
   },
   {
    "duration": 589,
    "start_time": "2022-12-19T11:49:04.555Z"
   },
   {
    "duration": 10294,
    "start_time": "2022-12-19T11:49:05.152Z"
   },
   {
    "duration": 3,
    "start_time": "2022-12-19T11:49:15.451Z"
   },
   {
    "duration": 330,
    "start_time": "2022-12-19T11:49:15.456Z"
   },
   {
    "duration": 3,
    "start_time": "2022-12-19T11:49:15.788Z"
   },
   {
    "duration": 513,
    "start_time": "2022-12-19T11:49:15.792Z"
   },
   {
    "duration": 10613,
    "start_time": "2022-12-19T11:49:16.307Z"
   },
   {
    "duration": 3,
    "start_time": "2022-12-19T11:49:26.922Z"
   },
   {
    "duration": 465,
    "start_time": "2022-12-19T11:49:26.926Z"
   },
   {
    "duration": 71,
    "start_time": "2022-12-19T11:49:27.392Z"
   },
   {
    "duration": 58,
    "start_time": "2022-12-19T11:49:27.465Z"
   },
   {
    "duration": 73,
    "start_time": "2022-12-19T11:49:27.525Z"
   },
   {
    "duration": 22,
    "start_time": "2022-12-19T11:49:27.600Z"
   },
   {
    "duration": 33,
    "start_time": "2022-12-19T11:49:27.625Z"
   },
   {
    "duration": 40,
    "start_time": "2022-12-19T11:49:27.660Z"
   },
   {
    "duration": 4,
    "start_time": "2022-12-19T11:49:27.702Z"
   },
   {
    "duration": 46,
    "start_time": "2022-12-19T11:49:27.708Z"
   },
   {
    "duration": 109,
    "start_time": "2022-12-19T11:49:27.755Z"
   },
   {
    "duration": 117,
    "start_time": "2022-12-19T11:49:27.865Z"
   },
   {
    "duration": 84,
    "start_time": "2022-12-19T11:49:27.985Z"
   },
   {
    "duration": 182,
    "start_time": "2022-12-19T11:49:28.071Z"
   },
   {
    "duration": 29,
    "start_time": "2022-12-19T11:49:28.255Z"
   },
   {
    "duration": 26,
    "start_time": "2022-12-19T11:49:28.286Z"
   },
   {
    "duration": 25,
    "start_time": "2022-12-19T11:49:28.314Z"
   },
   {
    "duration": 35,
    "start_time": "2022-12-19T11:49:28.340Z"
   },
   {
    "duration": 32,
    "start_time": "2022-12-19T11:49:28.377Z"
   },
   {
    "duration": 704,
    "start_time": "2022-12-19T11:49:28.411Z"
   },
   {
    "duration": 658,
    "start_time": "2022-12-19T11:49:29.117Z"
   },
   {
    "duration": 663,
    "start_time": "2022-12-19T11:49:29.777Z"
   },
   {
    "duration": 4,
    "start_time": "2022-12-20T10:17:57.889Z"
   },
   {
    "duration": 1739,
    "start_time": "2022-12-20T10:17:57.896Z"
   },
   {
    "duration": 14,
    "start_time": "2022-12-20T10:17:59.637Z"
   },
   {
    "duration": 1760,
    "start_time": "2022-12-20T10:17:59.654Z"
   },
   {
    "duration": 4,
    "start_time": "2022-12-20T10:18:01.416Z"
   },
   {
    "duration": 71,
    "start_time": "2022-12-20T10:18:01.422Z"
   },
   {
    "duration": 592,
    "start_time": "2022-12-20T10:18:01.495Z"
   },
   {
    "duration": 11259,
    "start_time": "2022-12-20T10:18:02.089Z"
   },
   {
    "duration": 2,
    "start_time": "2022-12-20T10:18:13.350Z"
   },
   {
    "duration": 347,
    "start_time": "2022-12-20T10:18:13.354Z"
   },
   {
    "duration": 2,
    "start_time": "2022-12-20T10:18:13.703Z"
   },
   {
    "duration": 560,
    "start_time": "2022-12-20T10:18:13.707Z"
   },
   {
    "duration": 11224,
    "start_time": "2022-12-20T10:18:14.269Z"
   },
   {
    "duration": 2,
    "start_time": "2022-12-20T10:18:25.496Z"
   },
   {
    "duration": 403,
    "start_time": "2022-12-20T10:18:25.500Z"
   },
   {
    "duration": 3,
    "start_time": "2022-12-20T10:18:25.905Z"
   },
   {
    "duration": 569,
    "start_time": "2022-12-20T10:18:25.910Z"
   },
   {
    "duration": 11659,
    "start_time": "2022-12-20T10:18:26.481Z"
   },
   {
    "duration": 10,
    "start_time": "2022-12-20T10:18:38.142Z"
   },
   {
    "duration": 540,
    "start_time": "2022-12-20T10:18:38.155Z"
   },
   {
    "duration": 74,
    "start_time": "2022-12-20T10:18:38.697Z"
   },
   {
    "duration": 57,
    "start_time": "2022-12-20T10:18:38.773Z"
   },
   {
    "duration": 72,
    "start_time": "2022-12-20T10:18:38.832Z"
   },
   {
    "duration": 24,
    "start_time": "2022-12-20T10:18:38.906Z"
   },
   {
    "duration": 17,
    "start_time": "2022-12-20T10:18:38.950Z"
   },
   {
    "duration": 39,
    "start_time": "2022-12-20T10:18:38.969Z"
   },
   {
    "duration": 18,
    "start_time": "2022-12-20T10:18:39.010Z"
   },
   {
    "duration": 47,
    "start_time": "2022-12-20T10:18:39.030Z"
   },
   {
    "duration": 78,
    "start_time": "2022-12-20T10:18:39.079Z"
   },
   {
    "duration": 113,
    "start_time": "2022-12-20T10:18:39.160Z"
   },
   {
    "duration": 114,
    "start_time": "2022-12-20T10:18:39.352Z"
   },
   {
    "duration": 81,
    "start_time": "2022-12-20T10:18:39.469Z"
   },
   {
    "duration": 103,
    "start_time": "2022-12-20T10:18:39.553Z"
   },
   {
    "duration": 16,
    "start_time": "2022-12-20T10:18:39.658Z"
   },
   {
    "duration": 7,
    "start_time": "2022-12-20T10:18:39.677Z"
   },
   {
    "duration": 16,
    "start_time": "2022-12-20T10:18:39.686Z"
   },
   {
    "duration": 17,
    "start_time": "2022-12-20T10:18:39.704Z"
   },
   {
    "duration": 857,
    "start_time": "2022-12-20T10:18:39.724Z"
   },
   {
    "duration": 848,
    "start_time": "2022-12-20T10:18:40.583Z"
   },
   {
    "duration": 719,
    "start_time": "2022-12-20T10:18:41.433Z"
   },
   {
    "duration": 56,
    "start_time": "2022-12-21T15:23:45.000Z"
   },
   {
    "duration": 3,
    "start_time": "2022-12-21T15:23:50.624Z"
   },
   {
    "duration": 1715,
    "start_time": "2022-12-21T15:23:50.629Z"
   },
   {
    "duration": 6,
    "start_time": "2022-12-21T15:23:52.345Z"
   },
   {
    "duration": 801,
    "start_time": "2022-12-21T15:23:52.352Z"
   },
   {
    "duration": 2,
    "start_time": "2022-12-21T15:23:53.156Z"
   },
   {
    "duration": 9,
    "start_time": "2022-12-21T15:23:53.160Z"
   },
   {
    "duration": 547,
    "start_time": "2022-12-21T15:23:53.171Z"
   },
   {
    "duration": 10753,
    "start_time": "2022-12-21T15:23:53.720Z"
   },
   {
    "duration": 5,
    "start_time": "2022-12-21T15:24:04.474Z"
   },
   {
    "duration": 365,
    "start_time": "2022-12-21T15:24:04.489Z"
   },
   {
    "duration": 4,
    "start_time": "2022-12-21T15:24:04.856Z"
   },
   {
    "duration": 699,
    "start_time": "2022-12-21T15:24:04.861Z"
   },
   {
    "duration": 11058,
    "start_time": "2022-12-21T15:24:05.562Z"
   },
   {
    "duration": 2,
    "start_time": "2022-12-21T15:24:16.623Z"
   },
   {
    "duration": 379,
    "start_time": "2022-12-21T15:24:16.627Z"
   },
   {
    "duration": 2,
    "start_time": "2022-12-21T15:24:17.007Z"
   },
   {
    "duration": 550,
    "start_time": "2022-12-21T15:24:17.011Z"
   },
   {
    "duration": 14710,
    "start_time": "2022-12-21T15:24:17.563Z"
   },
   {
    "duration": 3,
    "start_time": "2022-12-21T15:24:32.276Z"
   },
   {
    "duration": 330,
    "start_time": "2022-12-21T15:24:32.280Z"
   },
   {
    "duration": 49,
    "start_time": "2022-12-21T15:24:32.612Z"
   },
   {
    "duration": 73,
    "start_time": "2022-12-21T15:24:32.662Z"
   },
   {
    "duration": 78,
    "start_time": "2022-12-21T15:24:32.737Z"
   },
   {
    "duration": 20,
    "start_time": "2022-12-21T15:24:32.816Z"
   },
   {
    "duration": 12,
    "start_time": "2022-12-21T15:24:32.838Z"
   },
   {
    "duration": 28,
    "start_time": "2022-12-21T15:24:32.851Z"
   },
   {
    "duration": 4,
    "start_time": "2022-12-21T15:24:32.885Z"
   },
   {
    "duration": 28,
    "start_time": "2022-12-21T15:24:32.891Z"
   },
   {
    "duration": 70,
    "start_time": "2022-12-21T15:24:32.921Z"
   },
   {
    "duration": 103,
    "start_time": "2022-12-21T15:24:32.993Z"
   },
   {
    "duration": 103,
    "start_time": "2022-12-21T15:24:33.098Z"
   },
   {
    "duration": 99,
    "start_time": "2022-12-21T15:24:33.278Z"
   },
   {
    "duration": 5,
    "start_time": "2022-12-21T15:24:33.379Z"
   },
   {
    "duration": 29,
    "start_time": "2022-12-21T15:24:33.386Z"
   },
   {
    "duration": 7,
    "start_time": "2022-12-21T15:24:33.417Z"
   },
   {
    "duration": 15,
    "start_time": "2022-12-21T15:24:33.425Z"
   },
   {
    "duration": 12,
    "start_time": "2022-12-21T15:24:33.441Z"
   },
   {
    "duration": 24,
    "start_time": "2022-12-21T15:24:33.454Z"
   },
   {
    "duration": 156,
    "start_time": "2022-12-21T15:24:33.480Z"
   },
   {
    "duration": 0,
    "start_time": "2022-12-21T15:24:33.638Z"
   },
   {
    "duration": 0,
    "start_time": "2022-12-21T15:24:33.639Z"
   },
   {
    "duration": 4,
    "start_time": "2022-12-21T15:24:45.993Z"
   },
   {
    "duration": 7,
    "start_time": "2022-12-21T15:24:59.517Z"
   },
   {
    "duration": 3,
    "start_time": "2022-12-21T15:28:48.012Z"
   },
   {
    "duration": 6,
    "start_time": "2022-12-21T15:36:58.939Z"
   },
   {
    "duration": 7,
    "start_time": "2022-12-21T15:37:19.932Z"
   },
   {
    "duration": 17,
    "start_time": "2022-12-21T15:52:24.074Z"
   },
   {
    "duration": 657,
    "start_time": "2022-12-21T15:52:59.814Z"
   },
   {
    "duration": 4,
    "start_time": "2022-12-21T15:56:26.322Z"
   },
   {
    "duration": 962,
    "start_time": "2022-12-21T15:56:28.610Z"
   },
   {
    "duration": 4,
    "start_time": "2022-12-21T15:57:04.354Z"
   },
   {
    "duration": 1099,
    "start_time": "2022-12-21T15:57:07.531Z"
   },
   {
    "duration": 964,
    "start_time": "2022-12-21T15:57:48.022Z"
   },
   {
    "duration": 3,
    "start_time": "2022-12-21T15:58:43.095Z"
   },
   {
    "duration": 1057,
    "start_time": "2022-12-21T15:58:48.853Z"
   },
   {
    "duration": 748,
    "start_time": "2022-12-21T15:59:52.548Z"
   },
   {
    "duration": 757,
    "start_time": "2022-12-21T16:00:00.119Z"
   },
   {
    "duration": 935,
    "start_time": "2022-12-21T16:00:18.198Z"
   },
   {
    "duration": 807,
    "start_time": "2022-12-21T16:00:21.920Z"
   },
   {
    "duration": 15,
    "start_time": "2022-12-21T16:00:24.079Z"
   },
   {
    "duration": 3,
    "start_time": "2022-12-21T16:01:18.260Z"
   },
   {
    "duration": 740,
    "start_time": "2022-12-21T16:01:18.561Z"
   },
   {
    "duration": 734,
    "start_time": "2022-12-21T16:01:19.393Z"
   },
   {
    "duration": 681,
    "start_time": "2022-12-21T16:01:20.129Z"
   },
   {
    "duration": 607,
    "start_time": "2022-12-21T16:01:40.829Z"
   },
   {
    "duration": 3,
    "start_time": "2022-12-21T16:11:28.254Z"
   },
   {
    "duration": 3,
    "start_time": "2022-12-21T16:11:30.209Z"
   },
   {
    "duration": 15,
    "start_time": "2022-12-21T16:11:30.514Z"
   },
   {
    "duration": 3,
    "start_time": "2022-12-21T16:11:42.633Z"
   },
   {
    "duration": 772,
    "start_time": "2022-12-21T16:11:44.606Z"
   },
   {
    "duration": 657,
    "start_time": "2022-12-21T16:11:49.917Z"
   },
   {
    "duration": 658,
    "start_time": "2022-12-21T16:11:50.577Z"
   },
   {
    "duration": 3,
    "start_time": "2022-12-21T16:27:31.355Z"
   },
   {
    "duration": 1892,
    "start_time": "2022-12-21T16:27:31.361Z"
   },
   {
    "duration": 7,
    "start_time": "2022-12-21T16:27:33.255Z"
   },
   {
    "duration": 830,
    "start_time": "2022-12-21T16:27:33.265Z"
   },
   {
    "duration": 4,
    "start_time": "2022-12-21T16:27:34.097Z"
   },
   {
    "duration": 24,
    "start_time": "2022-12-21T16:27:34.102Z"
   },
   {
    "duration": 562,
    "start_time": "2022-12-21T16:27:34.129Z"
   },
   {
    "duration": 11087,
    "start_time": "2022-12-21T16:27:34.695Z"
   },
   {
    "duration": 3,
    "start_time": "2022-12-21T16:27:45.786Z"
   },
   {
    "duration": 378,
    "start_time": "2022-12-21T16:27:45.791Z"
   },
   {
    "duration": 3,
    "start_time": "2022-12-21T16:27:46.171Z"
   },
   {
    "duration": 720,
    "start_time": "2022-12-21T16:27:46.176Z"
   },
   {
    "duration": 12206,
    "start_time": "2022-12-21T16:27:46.899Z"
   },
   {
    "duration": 3,
    "start_time": "2022-12-21T16:27:59.108Z"
   },
   {
    "duration": 392,
    "start_time": "2022-12-21T16:27:59.113Z"
   },
   {
    "duration": 3,
    "start_time": "2022-12-21T16:27:59.507Z"
   },
   {
    "duration": 619,
    "start_time": "2022-12-21T16:27:59.512Z"
   },
   {
    "duration": 13017,
    "start_time": "2022-12-21T16:28:00.133Z"
   },
   {
    "duration": 3,
    "start_time": "2022-12-21T16:28:13.152Z"
   },
   {
    "duration": 623,
    "start_time": "2022-12-21T16:28:13.156Z"
   },
   {
    "duration": 71,
    "start_time": "2022-12-21T16:28:13.781Z"
   },
   {
    "duration": 80,
    "start_time": "2022-12-21T16:28:13.854Z"
   },
   {
    "duration": 104,
    "start_time": "2022-12-21T16:28:13.936Z"
   },
   {
    "duration": 39,
    "start_time": "2022-12-21T16:28:14.044Z"
   },
   {
    "duration": 20,
    "start_time": "2022-12-21T16:28:14.097Z"
   },
   {
    "duration": 19,
    "start_time": "2022-12-21T16:28:14.120Z"
   },
   {
    "duration": 4,
    "start_time": "2022-12-21T16:28:14.141Z"
   },
   {
    "duration": 73,
    "start_time": "2022-12-21T16:28:14.149Z"
   },
   {
    "duration": 81,
    "start_time": "2022-12-21T16:28:14.225Z"
   },
   {
    "duration": 99,
    "start_time": "2022-12-21T16:28:14.309Z"
   },
   {
    "duration": 99,
    "start_time": "2022-12-21T16:28:14.412Z"
   },
   {
    "duration": 8,
    "start_time": "2022-12-21T16:28:14.600Z"
   },
   {
    "duration": 91,
    "start_time": "2022-12-21T16:28:14.613Z"
   },
   {
    "duration": 11,
    "start_time": "2022-12-21T16:28:14.707Z"
   },
   {
    "duration": 11,
    "start_time": "2022-12-21T16:28:14.721Z"
   },
   {
    "duration": 10,
    "start_time": "2022-12-21T16:28:14.734Z"
   },
   {
    "duration": 10,
    "start_time": "2022-12-21T16:28:14.746Z"
   },
   {
    "duration": 6,
    "start_time": "2022-12-21T16:28:14.759Z"
   },
   {
    "duration": 31,
    "start_time": "2022-12-21T16:28:14.767Z"
   },
   {
    "duration": 922,
    "start_time": "2022-12-21T16:28:14.800Z"
   },
   {
    "duration": 906,
    "start_time": "2022-12-21T16:28:15.724Z"
   },
   {
    "duration": 797,
    "start_time": "2022-12-21T16:28:16.632Z"
   }
  ],
  "kernelspec": {
   "display_name": "Python 3 (ipykernel)",
   "language": "python",
   "name": "python3"
  },
  "language_info": {
   "codemirror_mode": {
    "name": "ipython",
    "version": 3
   },
   "file_extension": ".py",
   "mimetype": "text/x-python",
   "name": "python",
   "nbconvert_exporter": "python",
   "pygments_lexer": "ipython3",
   "version": "3.9.12"
  },
  "toc": {
   "base_numbering": 1,
   "nav_menu": {},
   "number_sections": true,
   "sideBar": true,
   "skip_h1_title": true,
   "title_cell": "Table of Contents",
   "title_sidebar": "Contents",
   "toc_cell": false,
   "toc_position": {
    "height": "calc(100% - 180px)",
    "left": "10px",
    "top": "150px",
    "width": "165px"
   },
   "toc_section_display": true,
   "toc_window_display": true
  }
 },
 "nbformat": 4,
 "nbformat_minor": 2
}
