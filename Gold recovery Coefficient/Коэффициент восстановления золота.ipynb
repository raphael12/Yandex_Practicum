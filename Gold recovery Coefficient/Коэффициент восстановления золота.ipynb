{
 "cells": [
  {
   "cell_type": "markdown",
   "metadata": {},
   "source": [
    "# Восстановление золота из руды"
   ]
  },
  {
   "cell_type": "markdown",
   "metadata": {
    "toc": true
   },
   "source": [
    "<h1>Содержание<span class=\"tocSkip\"></span></h1>\n",
    "<div class=\"toc\"><ul class=\"toc-item\"><li><span><a href=\"#Описание-проекта\" data-toc-modified-id=\"Описание-проекта-1\"><span class=\"toc-item-num\">1&nbsp;&nbsp;</span>Описание проекта</a></span><ul class=\"toc-item\"><li><span><a href=\"#Технологический-процесс\" data-toc-modified-id=\"Технологический-процесс-1.1\"><span class=\"toc-item-num\">1.1&nbsp;&nbsp;</span>Технологический процесс</a></span><ul class=\"toc-item\"><li><span><a href=\"#Флотация\" data-toc-modified-id=\"Флотация-1.1.1\"><span class=\"toc-item-num\">1.1.1&nbsp;&nbsp;</span>Флотация</a></span></li><li><span><a href=\"#Очистка\" data-toc-modified-id=\"Очистка-1.1.2\"><span class=\"toc-item-num\">1.1.2&nbsp;&nbsp;</span>Очистка</a></span></li></ul></li><li><span><a href=\"#Цель-проекта\" data-toc-modified-id=\"Цель-проекта-1.2\"><span class=\"toc-item-num\">1.2&nbsp;&nbsp;</span>Цель проекта</a></span></li></ul></li><li><span><a href=\"#Подготовка\" data-toc-modified-id=\"Подготовка-2\"><span class=\"toc-item-num\">2&nbsp;&nbsp;</span>Подготовка</a></span><ul class=\"toc-item\"><li><span><a href=\"#Настройка-среды\" data-toc-modified-id=\"Настройка-среды-2.1\"><span class=\"toc-item-num\">2.1&nbsp;&nbsp;</span>Настройка среды</a></span></li><li><span><a href=\"#Подготовка-данных\" data-toc-modified-id=\"Подготовка-данных-2.2\"><span class=\"toc-item-num\">2.2&nbsp;&nbsp;</span>Подготовка данных</a></span><ul class=\"toc-item\"><li><span><a href=\"#Описание-данных\" data-toc-modified-id=\"Описание-данных-2.2.1\"><span class=\"toc-item-num\">2.2.1&nbsp;&nbsp;</span>Описание данных</a></span></li><li><span><a href=\"#Импорт-данных-и-их-первичный-анализ\" data-toc-modified-id=\"Импорт-данных-и-их-первичный-анализ-2.2.2\"><span class=\"toc-item-num\">2.2.2&nbsp;&nbsp;</span>Импорт данных и их первичный анализ</a></span></li><li><span><a href=\"#Поиск-дубликатов\" data-toc-modified-id=\"Поиск-дубликатов-2.2.3\"><span class=\"toc-item-num\">2.2.3&nbsp;&nbsp;</span>Поиск дубликатов</a></span></li><li><span><a href=\"#Изменение-типа-данных\" data-toc-modified-id=\"Изменение-типа-данных-2.2.4\"><span class=\"toc-item-num\">2.2.4&nbsp;&nbsp;</span>Изменение типа данных</a></span></li><li><span><a href=\"#Заполнение-пропусков\" data-toc-modified-id=\"Заполнение-пропусков-2.2.5\"><span class=\"toc-item-num\">2.2.5&nbsp;&nbsp;</span>Заполнение пропусков</a></span></li><li><span><a href=\"#Разное-количество-признаков\" data-toc-modified-id=\"Разное-количество-признаков-2.2.6\"><span class=\"toc-item-num\">2.2.6&nbsp;&nbsp;</span>Разное количество признаков</a></span></li><li><span><a href=\"#Проверка-формулы-эффективности-обогащения\" data-toc-modified-id=\"Проверка-формулы-эффективности-обогащения-2.2.7\"><span class=\"toc-item-num\">2.2.7&nbsp;&nbsp;</span>Проверка формулы эффективности обогащения</a></span></li><li><span><a href=\"#Вывод\" data-toc-modified-id=\"Вывод-2.2.8\"><span class=\"toc-item-num\">2.2.8&nbsp;&nbsp;</span>Вывод</a></span></li></ul></li></ul></li><li><span><a href=\"#Анализ-данных\" data-toc-modified-id=\"Анализ-данных-3\"><span class=\"toc-item-num\">3&nbsp;&nbsp;</span>Анализ данных</a></span><ul class=\"toc-item\"><li><span><a href=\"#Именения-концентрации-металлов-на-различных-этапах-очистки\" data-toc-modified-id=\"Именения-концентрации-металлов-на-различных-этапах-очистки-3.1\"><span class=\"toc-item-num\">3.1&nbsp;&nbsp;</span>Именения концентрации металлов на различных этапах очистки</a></span><ul class=\"toc-item\"><li><span><a href=\"#Удаление-аномалий-в-концентрациях\" data-toc-modified-id=\"Удаление-аномалий-в-концентрациях-3.1.1\"><span class=\"toc-item-num\">3.1.1&nbsp;&nbsp;</span>Удаление аномалий в концентрациях</a></span></li></ul></li><li><span><a href=\"#Исследвание-распределения-размеров-гранул-сырья-на-обучающей-и-тестовой-выборках\" data-toc-modified-id=\"Исследвание-распределения-размеров-гранул-сырья-на-обучающей-и-тестовой-выборках-3.2\"><span class=\"toc-item-num\">3.2&nbsp;&nbsp;</span>Исследвание распределения размеров гранул сырья на обучающей и тестовой выборках</a></span></li><li><span><a href=\"#Исследование-суммарной-концентрации-всех-веществ-на-разных-стадиях:-в-сырье,-в-черновом-и-финальном-концентратах\" data-toc-modified-id=\"Исследование-суммарной-концентрации-всех-веществ-на-разных-стадиях:-в-сырье,-в-черновом-и-финальном-концентратах-3.3\"><span class=\"toc-item-num\">3.3&nbsp;&nbsp;</span>Исследование суммарной концентрации всех веществ на разных стадиях: в сырье, в черновом и финальном концентратах</a></span></li><li><span><a href=\"#Вывод\" data-toc-modified-id=\"Вывод-3.4\"><span class=\"toc-item-num\">3.4&nbsp;&nbsp;</span>Вывод</a></span></li></ul></li><li><span><a href=\"#Модель\" data-toc-modified-id=\"Модель-4\"><span class=\"toc-item-num\">4&nbsp;&nbsp;</span>Модель</a></span><ul class=\"toc-item\"><li><span><a href=\"#Подготовка-данных-для-обучения-модели\" data-toc-modified-id=\"Подготовка-данных-для-обучения-модели-4.1\"><span class=\"toc-item-num\">4.1&nbsp;&nbsp;</span>Подготовка данных для обучения модели</a></span><ul class=\"toc-item\"><li><span><a href=\"#Данные-для-rougher.output.recovery\" data-toc-modified-id=\"Данные-для-rougher.output.recovery-4.1.1\"><span class=\"toc-item-num\">4.1.1&nbsp;&nbsp;</span>Данные для rougher.output.recovery</a></span></li><li><span><a href=\"#Данные-для-final.output.recovery\" data-toc-modified-id=\"Данные-для-final.output.recovery-4.1.2\"><span class=\"toc-item-num\">4.1.2&nbsp;&nbsp;</span>Данные для final.output.recovery</a></span></li></ul></li><li><span><a href=\"#Метрика-sMAPE\" data-toc-modified-id=\"Метрика-sMAPE-4.2\"><span class=\"toc-item-num\">4.2&nbsp;&nbsp;</span>Метрика sMAPE</a></span></li><li><span><a href=\"#Модель-RandomForestRegressor\" data-toc-modified-id=\"Модель-RandomForestRegressor-4.3\"><span class=\"toc-item-num\">4.3&nbsp;&nbsp;</span>Модель RandomForestRegressor</a></span></li><li><span><a href=\"#Модель-DecisionTreeRegressor\" data-toc-modified-id=\"Модель-DecisionTreeRegressor-4.4\"><span class=\"toc-item-num\">4.4&nbsp;&nbsp;</span>Модель DecisionTreeRegressor</a></span></li><li><span><a href=\"#Модель-GradientBoostingRegressor\" data-toc-modified-id=\"Модель-GradientBoostingRegressor-4.5\"><span class=\"toc-item-num\">4.5&nbsp;&nbsp;</span>Модель GradientBoostingRegressor</a></span></li><li><span><a href=\"#Проверка-на-тестовой-выборке\" data-toc-modified-id=\"Проверка-на-тестовой-выборке-4.6\"><span class=\"toc-item-num\">4.6&nbsp;&nbsp;</span>Проверка на тестовой выборке</a></span></li><li><span><a href=\"#Проверка-модели-на-адекватность\" data-toc-modified-id=\"Проверка-модели-на-адекватность-4.7\"><span class=\"toc-item-num\">4.7&nbsp;&nbsp;</span>Проверка модели на адекватность</a></span></li><li><span><a href=\"#Вывод\" data-toc-modified-id=\"Вывод-4.8\"><span class=\"toc-item-num\">4.8&nbsp;&nbsp;</span>Вывод</a></span></li></ul></li><li><span><a href=\"#Чек-лист-готовности-проекта\" data-toc-modified-id=\"Чек-лист-готовности-проекта-5\"><span class=\"toc-item-num\">5&nbsp;&nbsp;</span>Чек-лист готовности проекта</a></span></li></ul></div>"
   ]
  },
  {
   "cell_type": "markdown",
   "metadata": {},
   "source": [
    "## Описание проекта"
   ]
  },
  {
   "cell_type": "markdown",
   "metadata": {},
   "source": [
    "### Технологический процесс"
   ]
  },
  {
   "cell_type": "markdown",
   "metadata": {},
   "source": [
    "Как золото получают из руды? Изучите внимательно стадии процесса. Когда добытая руда проходит первичную обработку, получается дроблёная смесь. Её отправляют на флотацию (обогащение) и двухэтапную очистку.\n"
   ]
  },
  {
   "cell_type": "markdown",
   "metadata": {},
   "source": [
    "#### Флотация\n",
    "Во флотационную установку подаётся смесь золотосодержащей руды. После обогащения получается черновой концентрат и «отвальные хвосты», то есть остатки продукта с низкой концентрацией ценных металлов. На стабильность этого процесса влияет непостоянное и неоптимальное физико-химическое состояние флотационной пульпы (смеси твёрдых частиц и жидкости).\n",
    "\n",
    "ВИКИ:  \n",
    "Флота́ция (фр. flottation, от flotter — плавать) — один из методов обогащения полезных ископаемых, который основан на различии способностей минералов удерживаться на межфазовой поверхности, обусловленный различием в удельных поверхностных энергиях. Гидрофобные (плохо смачиваемые водой) частицы минералов избирательно закрепляются на границе раздела фаз, обычно газа и воды, и отделяются от гидрофильных (хорошо смачиваемых водой) частиц.\n"
   ]
  },
  {
   "cell_type": "markdown",
   "metadata": {},
   "source": [
    "#### Очистка\n",
    "\n",
    "Во флотационную установку подаётся смесь золотосодержащей руды. После обогащения получается черновой концентрат и «отвальные хвосты», то есть остатки продукта с низкой концентрацией ценных металлов. На стабильность этого процесса влияет непостоянное и неоптимальное физико-химическое состояние флотационной пульпы (смеси твёрдых частиц и жидкости)."
   ]
  },
  {
   "cell_type": "markdown",
   "metadata": {},
   "source": [
    "### Цель проекта"
   ]
  },
  {
   "cell_type": "markdown",
   "metadata": {},
   "source": [
    "Подготовить прототип модели машинного обучения для «Цифры». Компания разрабатывает решения для эффективной работы промышленных предприятий.\n",
    "\n",
    "Модель должна предсказать коэффициент восстановления золота из золотосодержащей руды. Используйте данные с параметрами добычи и очистки. \n",
    "\n",
    "Модель поможет оптимизировать производство, чтобы не запускать предприятие с убыточными характеристиками.\n",
    "\n",
    "Нужно:\n",
    "\n",
    "1. Подготовить данные;\n",
    "2. Провести исследовательский анализ данных;\n",
    "3. Построить и обучить модель."
   ]
  },
  {
   "cell_type": "markdown",
   "metadata": {},
   "source": [
    "## Подготовка"
   ]
  },
  {
   "cell_type": "markdown",
   "metadata": {},
   "source": [
    "### Настройка среды"
   ]
  },
  {
   "cell_type": "code",
   "execution_count": 1,
   "metadata": {},
   "outputs": [],
   "source": [
    "#Установка доп библиотеки\n",
    "!pip install skimpy"
   ]
  },
  {
   "cell_type": "code",
   "execution_count": 2,
   "metadata": {},
   "outputs": [],
   "source": [
    "#Основные библиотеки\n",
    "import pandas as pd\n",
    "import numpy as np\n",
    "import matplotlib.pyplot as plt\n",
    "import seaborn as se\n",
    "#from skimpy import skim\n",
    "\n",
    "#Модели для регрессии\n",
    "from sklearn.ensemble import RandomForestRegressor\n",
    "from sklearn.tree import DecisionTreeRegressor\n",
    "from sklearn.ensemble import GradientBoostingRegressor\n",
    "\n",
    "#Вспомогательные функции\n",
    "from sklearn.preprocessing import StandardScaler\n",
    "from sklearn.model_selection import GridSearchCV\n",
    "from sklearn.pipeline import Pipeline, make_pipeline\n",
    "from sklearn.metrics import make_scorer\n",
    "\n",
    "import warnings\n",
    "warnings.filterwarnings(\"ignore\")"
   ]
  },
  {
   "cell_type": "code",
   "execution_count": 3,
   "metadata": {},
   "outputs": [],
   "source": [
    "#Настройка графиков\n",
    "se.set_style('darkgrid')\n",
    "#%config InlineBackend.figure_formats = 'png' # svg Не работает :(\n",
    "se.set(rc={'font.size': 8, \n",
    "           'figure.facecolor': 'white',\n",
    "           'figure.figsize': (10, 6),\n",
    "           'axes.edgecolor': 'black',\n",
    "           'axes.facecolor': 'white',\n",
    "           'axes.grid': True,\n",
    "           'grid.color': 'black',\n",
    "           'grid.linewidth': 0.5,\n",
    "           'grid.alpha': 0.3,\n",
    "           'grid.linestyle': '--',\n",
    "           'text.color': 'black',\n",
    "           'xtick.color': 'black',\n",
    "           'ytick.color': 'black',\n",
    "           'font.size': 10.0,\n",
    "           'xtick.bottom': True,\n",
    "           'xtick.top': False,\n",
    "           'ytick.left': True,\n",
    "           'ytick.right': True,\n",
    "           'lines.linewidth': 1, \n",
    "           'patch.edgecolor': 'w',\n",
    "           'lines.solid_capstyle': 'butt',\n",
    "           'patch.linewidth': 0.2})"
   ]
  },
  {
   "cell_type": "markdown",
   "metadata": {},
   "source": [
    "### Подготовка данных"
   ]
  },
  {
   "cell_type": "markdown",
   "metadata": {},
   "source": [
    "#### Описание данных"
   ]
  },
  {
   "cell_type": "markdown",
   "metadata": {},
   "source": [
    "**Технологический процесс:**  \n",
    "Rougher feed — исходное сырье  \n",
    "Rougher additions (или reagent additions) — флотационные реагенты:   \n",
    "    Xanthate, Sulphate, Depressant  \n",
    "  \n",
    "Xanthate — ксантогенат (промотер, или активатор флотации);  \n",
    "Sulphate — сульфат (на данном производстве сульфид натрия);  \n",
    "Depressant — депрессант (силикат натрия).  \n",
    "\n",
    "Rougher process (англ. «грубый процесс») — флотация  \n",
    "Rougher tails — отвальные хвосты  \n",
    "Float banks — флотационная установка  \n",
    "Cleaner process — очистка  \n",
    "Rougher Au — черновой концентрат золота  \n",
    "Final Au — финальный концентрат золота  \n",
    "\n",
    "**Параметры этапов:**  \n",
    "air amount — объём воздуха  \n",
    "fluid levels — уровень жидкости  \n",
    "feed size — размер гранул сырья  \n",
    "feed rate — скорость подачи  \n",
    "\n",
    "**Наименование признаков должно быть такое:**  \n",
    "[этап].[тип_параметра].[название_параметра]  \n",
    "Пример: rougher.input.feed_ag  \n",
    "\n",
    "**Возможные значения для блока [этап]:**  \n",
    "rougher — флотация  \n",
    "primary_cleaner — первичная очистка   \n",
    "secondary_cleaner — вторичная очистка    \n",
    "final — финальные характеристики    \n",
    "\n",
    "**Возможные значения для блока [тип_параметра]:**  \n",
    "input — параметры сырья  \n",
    "output — параметры продукта  \n",
    "state — параметры, характеризующие текущее состояние этапа  \n",
    "calculation — расчётные характеристики  "
   ]
  },
  {
   "cell_type": "markdown",
   "metadata": {},
   "source": [
    "#### Импорт данных и их первичный анализ"
   ]
  },
  {
   "cell_type": "code",
   "execution_count": 4,
   "metadata": {},
   "outputs": [],
   "source": [
    "try:\n",
    "    data_train = pd.read_csv(\"/datasets/gold_recovery_train_new.csv\")\n",
    "    data_test = pd.read_csv(\"/datasets/gold_recovery_test_new.csv\")\n",
    "    data_full = pd.read_csv(\"/datasets/gold_recovery_full_new.csv\")\n",
    "except:\n",
    "    data_train = pd.read_csv(\"C:\\\\Users\\\\Professional\\\\Desktop\\\\DataSet\\\\gold_recovery_train_new.csv\")\n",
    "    data_test = pd.read_csv(\"C:\\\\Users\\\\Professional\\\\Desktop\\\\DataSet\\\\gold_recovery_test_new.csv\")\n",
    "    data_full = pd.read_csv(\"C:\\\\Users\\\\Professional\\\\Desktop\\\\DataSet\\\\gold_recovery_full_new.csv\")\n",
    "# finally:\n",
    "#     data_train = clean_columns(data_train)\n",
    "#     data_test = clean_columns(data_test)\n",
    "#     data_full = clean_columns(data_full)"
   ]
  },
  {
   "cell_type": "raw",
   "metadata": {
    "scrolled": false
   },
   "source": [
    "#skim(data_train)"
   ]
  },
  {
   "cell_type": "raw",
   "metadata": {},
   "source": [
    "#skim(data_test)"
   ]
  },
  {
   "cell_type": "raw",
   "metadata": {
    "scrolled": false
   },
   "source": [
    "#skim(data_full)"
   ]
  },
  {
   "cell_type": "markdown",
   "metadata": {},
   "source": [
    "**Вывод**  \n",
    "\n",
    "Бросается в глаза:\n",
    "1) различное количество прознаков для тестовой выборки и тренировочной  \n",
    "2) наличие пропусков  \n",
    "3) Неверный тип данных для признака date  "
   ]
  },
  {
   "cell_type": "markdown",
   "metadata": {},
   "source": [
    "#### Поиск дубликатов "
   ]
  },
  {
   "cell_type": "code",
   "execution_count": 5,
   "metadata": {},
   "outputs": [
    {
     "name": "stdout",
     "output_type": "stream",
     "text": [
      "Количество явных дубликатов в тренировочном датасете - 0\n",
      "Количество явных дубликатов в тестовом датасете - 0\n",
      "Количество явных дубликатов в полном датасете - 0\n"
     ]
    }
   ],
   "source": [
    "print(f'Количество явных дубликатов в тренировочном датасете -', data_train.duplicated().sum())\n",
    "print(f'Количество явных дубликатов в тестовом датасете -', data_test.duplicated().sum())\n",
    "print(f'Количество явных дубликатов в полном датасете -', data_full.duplicated().sum())"
   ]
  },
  {
   "cell_type": "markdown",
   "metadata": {},
   "source": [
    "**Вывод**  \n",
    "\n",
    "Дубликатов нет"
   ]
  },
  {
   "cell_type": "markdown",
   "metadata": {},
   "source": [
    "#### Изменение типа данных"
   ]
  },
  {
   "cell_type": "code",
   "execution_count": 6,
   "metadata": {},
   "outputs": [],
   "source": [
    "data_train['date'] = pd.to_datetime(data_train['date'], format='%Y-%m-%d %H:%M:%S')\n",
    "data_test['date'] = pd.to_datetime(data_test['date'], format='%Y-%m-%d %H:%M:%S')\n",
    "data_full['date'] = pd.to_datetime(data_full['date'], format='%Y-%m-%d %H:%M:%S')"
   ]
  },
  {
   "cell_type": "code",
   "execution_count": 7,
   "metadata": {},
   "outputs": [
    {
     "name": "stdout",
     "output_type": "stream",
     "text": [
      "datetime64[ns] datetime64[ns] datetime64[ns]\n"
     ]
    }
   ],
   "source": [
    "print(data_train.date.dtype, data_test.date.dtype, data_full.date.dtype)"
   ]
  },
  {
   "cell_type": "markdown",
   "metadata": {},
   "source": [
    "**Вывод**  \n",
    " \n",
    "Тип данных признака date исправлен на нужный"
   ]
  },
  {
   "cell_type": "markdown",
   "metadata": {},
   "source": [
    "#### Заполнение пропусков "
   ]
  },
  {
   "cell_type": "markdown",
   "metadata": {},
   "source": [
    "У всех данных есть врменная метка, поэтому заполнить пропуски довольно просто. Можно взять среднее арифметическое соседних значений или же заполнить пропуск одним из соседних значений. Второй вариант легко осуществим, так как есть специальный метод *ffill*."
   ]
  },
  {
   "cell_type": "code",
   "execution_count": 8,
   "metadata": {},
   "outputs": [
    {
     "name": "stdout",
     "output_type": "stream",
     "text": [
      "Количество пропусков в тренировочноы выборке - 4100\n"
     ]
    }
   ],
   "source": [
    "print(\"Количество пропусков в тренировочноы выборке -\", data_train.isna().sum().sum())"
   ]
  },
  {
   "cell_type": "code",
   "execution_count": 9,
   "metadata": {},
   "outputs": [
    {
     "name": "stdout",
     "output_type": "stream",
     "text": [
      "Размер тренировочной выборки - (14149, 87) и количество пропусков - 0\n"
     ]
    }
   ],
   "source": [
    "data_train = data_train.fillna(method='ffill', axis=0)\n",
    "print(f'Размер тренировочной выборки - {data_train.shape} и количество пропусков - {data_train.isna().sum().sum()}')"
   ]
  },
  {
   "cell_type": "code",
   "execution_count": 10,
   "metadata": {},
   "outputs": [
    {
     "name": "stdout",
     "output_type": "stream",
     "text": [
      "Количество пропусков в тестовой выборке - 90\n"
     ]
    }
   ],
   "source": [
    "print(\"Количество пропусков в тестовой выборке -\", data_test.isna().sum().sum())"
   ]
  },
  {
   "cell_type": "code",
   "execution_count": 11,
   "metadata": {},
   "outputs": [
    {
     "name": "stdout",
     "output_type": "stream",
     "text": [
      "Размер тестовой выборки - (5290, 53) и количество пропусков - 0\n"
     ]
    }
   ],
   "source": [
    "data_test = data_test.fillna(method='ffill', axis=0)\n",
    "print(f'Размер тестовой выборки - {data_test.shape} и количество пропусков - {data_test.isna().sum().sum()}')"
   ]
  },
  {
   "cell_type": "code",
   "execution_count": 12,
   "metadata": {},
   "outputs": [
    {
     "name": "stdout",
     "output_type": "stream",
     "text": [
      "Количество пропусков во всей выборке - 4481\n"
     ]
    }
   ],
   "source": [
    "print(\"Количество пропусков во всей выборке -\", data_full.isna().sum().sum())"
   ]
  },
  {
   "cell_type": "code",
   "execution_count": 13,
   "metadata": {},
   "outputs": [
    {
     "name": "stdout",
     "output_type": "stream",
     "text": [
      "Размер всей выборки - (19439, 87) и количество пропусков - 0\n"
     ]
    }
   ],
   "source": [
    "data_full = data_full.fillna(method='ffill', axis=0)\n",
    "print(f'Размер всей выборки - {data_full.shape} и количество пропусков - {data_full.isna().sum().sum()}')"
   ]
  },
  {
   "cell_type": "markdown",
   "metadata": {},
   "source": [
    "**Вывод**  \n",
    "\n",
    "Пропуски в данных были заполненны предшествующим значением"
   ]
  },
  {
   "cell_type": "markdown",
   "metadata": {},
   "source": [
    "#### Разное количество признаков "
   ]
  },
  {
   "cell_type": "code",
   "execution_count": 14,
   "metadata": {
    "collapsed": true
   },
   "outputs": [
    {
     "data": {
      "text/plain": [
       "{'final.output.concentrate_ag',\n",
       " 'final.output.concentrate_au',\n",
       " 'final.output.concentrate_pb',\n",
       " 'final.output.concentrate_sol',\n",
       " 'final.output.recovery',\n",
       " 'final.output.tail_ag',\n",
       " 'final.output.tail_au',\n",
       " 'final.output.tail_pb',\n",
       " 'final.output.tail_sol',\n",
       " 'primary_cleaner.output.concentrate_ag',\n",
       " 'primary_cleaner.output.concentrate_au',\n",
       " 'primary_cleaner.output.concentrate_pb',\n",
       " 'primary_cleaner.output.concentrate_sol',\n",
       " 'primary_cleaner.output.tail_ag',\n",
       " 'primary_cleaner.output.tail_au',\n",
       " 'primary_cleaner.output.tail_pb',\n",
       " 'primary_cleaner.output.tail_sol',\n",
       " 'rougher.calculation.au_pb_ratio',\n",
       " 'rougher.calculation.floatbank10_sulfate_to_au_feed',\n",
       " 'rougher.calculation.floatbank11_sulfate_to_au_feed',\n",
       " 'rougher.calculation.sulfate_to_au_concentrate',\n",
       " 'rougher.output.concentrate_ag',\n",
       " 'rougher.output.concentrate_au',\n",
       " 'rougher.output.concentrate_pb',\n",
       " 'rougher.output.concentrate_sol',\n",
       " 'rougher.output.recovery',\n",
       " 'rougher.output.tail_ag',\n",
       " 'rougher.output.tail_au',\n",
       " 'rougher.output.tail_pb',\n",
       " 'rougher.output.tail_sol',\n",
       " 'secondary_cleaner.output.tail_ag',\n",
       " 'secondary_cleaner.output.tail_au',\n",
       " 'secondary_cleaner.output.tail_pb',\n",
       " 'secondary_cleaner.output.tail_sol'}"
      ]
     },
     "execution_count": 14,
     "metadata": {},
     "output_type": "execute_result"
    }
   ],
   "source": [
    "missed_signs = set(data_train.columns) ^ set(data_test.columns)\n",
    "missed_signs"
   ]
  },
  {
   "cell_type": "code",
   "execution_count": 15,
   "metadata": {
    "scrolled": false
   },
   "outputs": [],
   "source": [
    "missed_dict = dict()\n",
    "for sing in missed_signs:\n",
    "    stage, types, name = sing.split(\".\")\n",
    "    small_dict = missed_dict.get(stage, dict())\n",
    "    list_names = small_dict.get(types, list())\n",
    "    list_names.append(name)\n",
    "    small_dict[types] = list_names\n",
    "    missed_dict[stage] =  small_dict"
   ]
  },
  {
   "cell_type": "code",
   "execution_count": 16,
   "metadata": {},
   "outputs": [],
   "source": [
    "dictionary = {'rougher': \"флотация\", 'final': \"финальные характеристики\", 'primary_cleaner': \"первичная очистка\", \n",
    "            'secondary_cleaner': \"вторичная очистка\", 'calculation': \"расчётные характеристики\", 'output': \"параметры продукта\"}"
   ]
  },
  {
   "cell_type": "code",
   "execution_count": 17,
   "metadata": {
    "collapsed": true
   },
   "outputs": [
    {
     "name": "stdout",
     "output_type": "stream",
     "text": [
      "Для этапа \"финальные характеристики\" и параметра \"параметры продукта\" пропущены значения:\n",
      "tail_au\n",
      "tail_ag\n",
      "concentrate_sol\n",
      "concentrate_au\n",
      "recovery\n",
      "tail_sol\n",
      "concentrate_ag\n",
      "tail_pb\n",
      "concentrate_pb\n",
      "\n",
      "Для этапа \"первичная очистка\" и параметра \"параметры продукта\" пропущены значения:\n",
      "tail_sol\n",
      "concentrate_ag\n",
      "tail_ag\n",
      "tail_pb\n",
      "concentrate_pb\n",
      "concentrate_au\n",
      "tail_au\n",
      "concentrate_sol\n",
      "\n",
      "Для этапа \"вторичная очистка\" и параметра \"параметры продукта\" пропущены значения:\n",
      "tail_ag\n",
      "tail_au\n",
      "tail_pb\n",
      "tail_sol\n",
      "\n",
      "Для этапа \"флотация\" и параметра \"параметры продукта\" пропущены значения:\n",
      "tail_sol\n",
      "tail_ag\n",
      "tail_pb\n",
      "concentrate_ag\n",
      "concentrate_pb\n",
      "recovery\n",
      "concentrate_sol\n",
      "tail_au\n",
      "concentrate_au\n",
      "\n",
      "Для этапа \"флотация\" и параметра \"расчётные характеристики\" пропущены значения:\n",
      "au_pb_ratio\n",
      "floatbank11_sulfate_to_au_feed\n",
      "sulfate_to_au_concentrate\n",
      "floatbank10_sulfate_to_au_feed\n",
      "\n"
     ]
    }
   ],
   "source": [
    "for stage, values in missed_dict.items():\n",
    "    for types, value in values.items():\n",
    "        print(f'Для этапа \"{dictionary[stage]}\" и параметра \"{dictionary[types]}\" пропущены значения:')\n",
    "        print(*value, sep='\\n', end='\\n\\n')\n",
    "        "
   ]
  },
  {
   "cell_type": "code",
   "execution_count": 18,
   "metadata": {},
   "outputs": [],
   "source": [
    "data_test = data_test.merge(data_full.loc[:, ['date','rougher.output.recovery','final.output.recovery']], on='date')"
   ]
  },
  {
   "cell_type": "markdown",
   "metadata": {},
   "source": [
    "**Вывод**  \n",
    "\n",
    "В оснвном в тестовой выборке отсутствуют данные связанные с параметром продукта и 4 рассчётных значения. Возможно это связано с тем, что они заполняются на более поздних этапах. В тестовых данных отсудствовует целевой признак, добавил его из full."
   ]
  },
  {
   "cell_type": "markdown",
   "metadata": {},
   "source": [
    "#### Проверка формулы эффективности обогащения"
   ]
  },
  {
   "cell_type": "markdown",
   "metadata": {},
   "source": [
    "Тут можно было использовать и готовую функцию, нооо ..."
   ]
  },
  {
   "cell_type": "code",
   "execution_count": 19,
   "metadata": {},
   "outputs": [],
   "source": [
    "def mae(column_1, column_2):\n",
    "    y_true, predictions = np.array(column_1), np.array(column_2)\n",
    "    return np.mean(np.abs(column_1 - column_2))"
   ]
  },
  {
   "cell_type": "code",
   "execution_count": 20,
   "metadata": {},
   "outputs": [],
   "source": [
    "c = data_train['rougher.output.concentrate_au']\n",
    "f = data_train['rougher.input.feed_au']\n",
    "t = data_train['rougher.output.tail_au']\n",
    "recovery = ((c*(f-t))/(f*(c-t))) * 100"
   ]
  },
  {
   "cell_type": "code",
   "execution_count": 21,
   "metadata": {},
   "outputs": [
    {
     "name": "stdout",
     "output_type": "stream",
     "text": [
      "MAE - 9.73512347450521e-15\n"
     ]
    }
   ],
   "source": [
    "print('MAE -', mae(data_train['rougher.output.recovery'], recovery))"
   ]
  },
  {
   "cell_type": "markdown",
   "metadata": {},
   "source": [
    "**Вывод**  \n",
    "\n",
    "Данные рассчитаны очень хорошо :)"
   ]
  },
  {
   "cell_type": "markdown",
   "metadata": {},
   "source": [
    "#### Вывод\n",
    "\n",
    "В данном разделе были изучены данные, проанализированы пропуски, наличие дубликатов и типы данных. Произведена проверка эффективности обогащения."
   ]
  },
  {
   "cell_type": "markdown",
   "metadata": {},
   "source": [
    "## Анализ данных"
   ]
  },
  {
   "cell_type": "markdown",
   "metadata": {},
   "source": [
    "На данном этапе нам необходимо изучить:  \n",
    "1) Именения концентрации металлов (Au, Ag, Pb) на различных этапах очистки  \n",
    "2) Исследвать распределения размеров гранул сырья на обучающей и тестовой выборках  \n",
    "3) Исследвать суммарную концентрацию всех веществ на разных стадиях: в сырье, в черновом и финальном концентратах   "
   ]
  },
  {
   "cell_type": "markdown",
   "metadata": {},
   "source": [
    "### Именения концентрации металлов на различных этапах очистки"
   ]
  },
  {
   "cell_type": "code",
   "execution_count": 22,
   "metadata": {},
   "outputs": [],
   "source": [
    "metals = {'au': 'Золота', 'ag': 'Серебра', 'pb': 'Свинца'}"
   ]
  },
  {
   "cell_type": "markdown",
   "metadata": {},
   "source": [
    "Посмотрим какие этамы нас могут интерисовать:  \n",
    "1) Концентрация в исходном сырье  \n",
    "2) Концентрация в после флотации  \n",
    "3) Концентрация полсе первичной очистки  \n",
    "4) Концентрация после вторичной очистки  \n",
    "\n",
    "Т е нас интересуют признаки:  \n",
    "1) rougher.input.feed_metal  \n",
    "2) rougher.output.concentrate_metal  \n",
    "3) primary_cleaner.output.concentrate_metal  \n",
    "4) final.output.concentrate_metal  "
   ]
  },
  {
   "cell_type": "code",
   "execution_count": 23,
   "metadata": {
    "scrolled": false
   },
   "outputs": [
    {
     "data": {
      "image/png": "[encoded data removed]",
      "text/plain": [
       "<Figure size 720x432 with 1 Axes>"
      ]
     },
     "metadata": {},
     "output_type": "display_data"
    },
    {
     "data": {
      "image/png": "[encoded data removed]",
      "text/plain": [
       "<Figure size 720x432 with 1 Axes>"
      ]
     },
     "metadata": {},
     "output_type": "display_data"
    },
    {
     "data": {
      "image/png": "[encoded data removed]",
      "text/plain": [
       "<Figure size 720x432 with 1 Axes>"
      ]
     },
     "metadata": {},
     "output_type": "display_data"
    }
   ],
   "source": [
    "for metal, matel_name in metals.items():\n",
    "    se.histplot(data_train[f'rougher.input.feed_{metal}'], color='r', label=\"Исходный\", binwidth=0.2)\n",
    "    se.histplot(data_train[f'rougher.output.concentrate_{metal}'], color='g', label=\"После флотации\", binwidth=0.2)\n",
    "    se.histplot(data_train[f'primary_cleaner.output.concentrate_{metal}'], color='b', label=\"После первичной очистки\", binwidth=0.2)\n",
    "    se.histplot(data_train[f'final.output.concentrate_{metal}'], color='y', label=\"После вторичной очистки\", binwidth=0.2)\n",
    "    plt.xlabel('Концентрация металла')\n",
    "    plt.ylabel('Распределение')\n",
    "    plt.title(f'Изменение распределений концентрации {matel_name}')\n",
    "    plt.legend()\n",
    "    plt.show()"
   ]
  },
  {
   "cell_type": "markdown",
   "metadata": {},
   "source": [
    "**Вывод**  \n",
    "\n",
    "Видно, что для золота концентрация равномерно растёт на каждом этапе очистки. Для Серебра наблюдается уменьшения концентрации после флотации, а для свинца видно, что мода распределения концентрации не изменилась при первичной и вторичной обработке, но само распределение стало уже. \n",
    "\n",
    "Видно, что есть странные точки в районе нуля. Скорее всего это выбросы или ошибки в данных и их нужно удалить. "
   ]
  },
  {
   "cell_type": "markdown",
   "metadata": {},
   "source": [
    "#### Удаление аномалий в концентрациях"
   ]
  },
  {
   "cell_type": "markdown",
   "metadata": {},
   "source": [
    "Посмотрим на первые значения отсортированных признаков"
   ]
  },
  {
   "cell_type": "code",
   "execution_count": 24,
   "metadata": {},
   "outputs": [
    {
     "name": "stdout",
     "output_type": "stream",
     "text": [
      "Золота\n",
      "[0.0099999997764825, 0.5881524872147755, 0.6259684010433395, 0.7140357109738721, 0.7481976486742496]\n",
      "[0.0, 0.0099999997764825, 0.5708187591615731, 1.8898551912215853, 1.9125816906327968]\n",
      "[0.0, 0.0099999997764825, 0.0565902522426202, 0.1359194442624368, 0.4398762263510273]\n",
      "[0.0, 0.0099999997764825, 1.063991517314682, 1.482979107612286, 3.5052673051342653]\n",
      "\n",
      "Серебра\n",
      "[0.0099999997764825, 1.0156763709019287, 1.1067579028686303, 1.1169297288576123, 1.226494222490582]\n",
      "[0.0, 0.0099999997764825, 0.3518741994094954, 0.905993481305385, 1.1801619791216145]\n",
      "[0.0, 0.0099999997764825, 0.0186605082721022, 0.0380856043928009, 0.1160969152361189]\n",
      "[0.0, 0.0099999997764825, 0.2890585602857491, 0.3717834985700978, 0.5946304664336528]\n",
      "\n",
      "Свинца\n",
      "[0.0099999997764825, 0.088552105876491, 0.1258894983180087, 0.1287273880993921, 0.1576860356029162]\n",
      "[0.0, 0.0099999997764825, 0.2143601515909864, 0.6299639487452805, 0.7721838300636357]\n",
      "[0.0, 0.0099999997764825, 0.0213565417627493, 0.0458567976706047, 0.0901324906722746]\n",
      "[0.0, 0.0099999997764825, 0.3323912772231475, 0.6293023448727197, 1.2549340642370472]\n",
      "\n"
     ]
    }
   ],
   "source": [
    "for metal, matel_name in metals.items():\n",
    "    print(matel_name)\n",
    "    print(list(data_train[f'rougher.input.feed_{metal}'].sort_values().unique())[:5])\n",
    "    print(list(data_train[f'rougher.output.concentrate_{metal}'].sort_values().unique())[:5])\n",
    "    print(list(data_train[f'primary_cleaner.output.concentrate_{metal}'].sort_values().unique())[:5])\n",
    "    print(list(data_train[f'final.output.concentrate_{metal}'].sort_values().unique())[:5])\n",
    "    print()\n",
    "    "
   ]
  },
  {
   "cell_type": "code",
   "execution_count": 72,
   "metadata": {},
   "outputs": [
    {
     "name": "stdout",
     "output_type": "stream",
     "text": [
      "SOL\n",
      "[0.4638665998335708, 3.1359269361940263, 4.592245775608139, 5.112079476502792, 5.495733877775363]\n",
      "[0.0, 0.8795934148712291, 1.7159061482191509, 2.1520513143224846, 2.9397649096190515]\n",
      "[0.0, 0.0164160881274276, 0.0627996468298454, 0.0676711361586219, 0.0996221370798432]\n",
      "[0.2910987419226613, 0.3605615923996407, 0.389547784494401, 0.4024899717266008, 0.4753080980823789]\n",
      "\n"
     ]
    }
   ],
   "source": [
    "    print(\"SOL\")\n",
    "    print(list(data_train[f'rougher.input.feed_sol'].sort_values().unique())[:5])\n",
    "    print(list(data_train[f'rougher.output.concentrate_sol'].sort_values().unique())[:5])\n",
    "    print(list(data_train[f'primary_cleaner.output.concentrate_sol'].sort_values().unique())[:5])\n",
    "    print(list(data_train[f'final.output.concentrate_sol'].sort_values().unique())[:5])\n",
    "    print()"
   ]
  },
  {
   "cell_type": "markdown",
   "metadata": {},
   "source": [
    "Видно, что есть повторяющееся значения. Удалим их. "
   ]
  },
  {
   "cell_type": "code",
   "execution_count": 25,
   "metadata": {},
   "outputs": [],
   "source": [
    "#Функция удаления аномалий\n",
    "def clean_concentration(data):\n",
    "    for metal in metals.keys():\n",
    "        data = data[(data[f'rougher.output.concentrate_{metal}'] >= 0.01) & (data[f'primary_cleaner.output.concentrate_{metal}'] >= 0.01) &\n",
    "                  (data[f'final.output.concentrate_{metal}'] >= 0.01) & ( data[f'rougher.input.feed_{metal}'] >= 0.01)]\n",
    "    return data"
   ]
  },
  {
   "cell_type": "code",
   "execution_count": 26,
   "metadata": {},
   "outputs": [
    {
     "name": "stdout",
     "output_type": "stream",
     "text": [
      "Длина массива до удаления -  14149\n"
     ]
    }
   ],
   "source": [
    "print(\"Длина массива до удаления - \", len(data_train))"
   ]
  },
  {
   "cell_type": "code",
   "execution_count": 27,
   "metadata": {},
   "outputs": [],
   "source": [
    "data_train = clean_concentration(data_train)"
   ]
  },
  {
   "cell_type": "code",
   "execution_count": 28,
   "metadata": {},
   "outputs": [
    {
     "data": {
      "text/plain": [
       "13596"
      ]
     },
     "execution_count": 28,
     "metadata": {},
     "output_type": "execute_result"
    }
   ],
   "source": [
    "len(data_train)"
   ]
  },
  {
   "cell_type": "markdown",
   "metadata": {},
   "source": [
    "### Исследвание распределения размеров гранул сырья на обучающей и тестовой выборках"
   ]
  },
  {
   "cell_type": "code",
   "execution_count": 29,
   "metadata": {},
   "outputs": [
    {
     "name": "stdout",
     "output_type": "stream",
     "text": [
      "Нас интересуют признаки:\n",
      "\n",
      "primary_cleaner.input.feed_size\n",
      "rougher.input.feed_size\n"
     ]
    }
   ],
   "source": [
    "print('Нас интересуют признаки:', end='\\n\\n')\n",
    "sings = []\n",
    "for name in data_train.columns:\n",
    "    if 'feed_size' in name:\n",
    "        sings.append(name)\n",
    "        print(name)"
   ]
  },
  {
   "cell_type": "code",
   "execution_count": 30,
   "metadata": {},
   "outputs": [
    {
     "data": {
      "image/png": "[encoded data removed]",
      "text/plain": [
       "<Figure size 720x432 with 1 Axes>"
      ]
     },
     "metadata": {},
     "output_type": "display_data"
    },
    {
     "data": {
      "image/png": "[encoded data removed]",
      "text/plain": [
       "<Figure size 720x432 with 1 Axes>"
      ]
     },
     "metadata": {},
     "output_type": "display_data"
    }
   ],
   "source": [
    "for sing in sings[::-1]:\n",
    "    se.histplot(data_train[sing], color='r', label=\"Тренировочная\", bins=100)\n",
    "    se.histplot(data_test[sing], color='g', label=\"Тестовая\", bins=100)\n",
    "    plt.xlabel('Размер кранул')\n",
    "    plt.ylabel('Распределение')\n",
    "    plt.title(f'Распределение размера гранул на этапе {sing.split(\".\")[0]}')\n",
    "    plt.legend()\n",
    "    plt.show()"
   ]
  },
  {
   "cell_type": "code",
   "execution_count": 31,
   "metadata": {},
   "outputs": [
    {
     "name": "stdout",
     "output_type": "stream",
     "text": [
      "Параметры распределения для этапа rougher\n",
      "Медиана для тренировочноы выборки = 55.266 на этапе rougher.input.feed_size\n",
      "Медиана для тестовой выборки = 50.847 на этапе rougher.input.feed_size\n",
      "Среднее для тренировочноы выборки = 60.228 на этапе rougher.input.feed_size\n",
      "Среднее для тестовой выборки = 55.953 на этапе rougher.input.feed_size\n",
      "\n",
      "Параметры распределения для этапа primary_cleaner\n",
      "Медиана для тренировочноы выборки = 7.300 на этапе primary_cleaner.input.feed_size\n",
      "Медиана для тестовой выборки = 7.250 на этапе primary_cleaner.input.feed_size\n",
      "Среднее для тренировочноы выборки = 7.329 на этапе primary_cleaner.input.feed_size\n",
      "Среднее для тестовой выборки = 7.266 на этапе primary_cleaner.input.feed_size\n",
      "\n"
     ]
    }
   ],
   "source": [
    "for sing in sings[::-1]:\n",
    "    print(f\"Параметры распределения для этапа {sing.split('.')[0]}\")\n",
    "    print(f\"Медиана для тренировочноы выборки = {data_train[sing].median():.3f} на этапе {sing}\")\n",
    "    print(f\"Медиана для тестовой выборки = {data_test[sing].median():.3f} на этапе {sing}\")\n",
    "    print(f\"Среднее для тренировочноы выборки = {data_train[sing].mean():.3f} на этапе {sing}\")\n",
    "    print(f\"Среднее для тестовой выборки = {data_test[sing].mean():.3f} на этапе {sing}\")\n",
    "    print()"
   ]
  },
  {
   "cell_type": "markdown",
   "metadata": {},
   "source": [
    "**Вывод**  \n",
    "\n",
    "Распределения для тренировочной и тестовой выборок практически одинаковое. Различие в высоте связанно с размером самих выборок. Также параметры распределения не сильно отличаются. "
   ]
  },
  {
   "cell_type": "code",
   "execution_count": 70,
   "metadata": {},
   "outputs": [
    {
     "data": {
      "image/png": "[encoded data removed]",
      "text/plain": [
       "<Figure size 720x432 with 1 Axes>"
      ]
     },
     "metadata": {},
     "output_type": "display_data"
    },
    {
     "data": {
      "image/png": "[encoded data removed]",
      "text/plain": [
       "<Figure size 720x432 with 1 Axes>"
      ]
     },
     "metadata": {},
     "output_type": "display_data"
    }
   ],
   "source": [
    "for sing in sings[::-1]:\n",
    "    plt.hist(data_train[sing], color='r', label=\"Тренировочная\", bins=100, density=True, alpha=0.6)\n",
    "    plt.hist(data_test[sing], color='g', label=\"Тестовая\", bins=100, density=True, alpha=0.6)\n",
    "    plt.xlabel('Размер кранул')\n",
    "    plt.ylabel('Распределение')\n",
    "    plt.title(f'Распределение размера гранул на этапе {sing.split(\".\")[0]}')\n",
    "    plt.legend()\n",
    "    plt.show()"
   ]
  },
  {
   "cell_type": "markdown",
   "metadata": {},
   "source": [
    "### Исследование суммарной концентрации всех веществ на разных стадиях: в сырье, в черновом и финальном концентратах"
   ]
  },
  {
   "cell_type": "code",
   "execution_count": 32,
   "metadata": {
    "scrolled": false
   },
   "outputs": [
    {
     "data": {
      "image/png": "[encoded data removed]",
      "text/plain": [
       "<Figure size 720x432 with 1 Axes>"
      ]
     },
     "metadata": {},
     "output_type": "display_data"
    }
   ],
   "source": [
    "colors= 'rby'\n",
    "materials = ['au', 'ag', 'pb', 'sol']\n",
    "processes = ['final.output.concentrate_', 'primary_cleaner.output.concentrate_', 'rougher.output.concentrate_']\n",
    "for i, process in enumerate(processes):\n",
    "    process_sum = pd.Series([0]*len(data_train))\n",
    "    for material in materials:\n",
    "        process_sum = (process_sum + data_train[f'{process}{material}'])\n",
    "    se.histplot(process_sum, label=str(process.split('.')[0]), color=colors[i], alpha=.4, kde=True)\n",
    "plt.xlabel('Концентрация')\n",
    "plt.ylabel('Распределение')\n",
    "plt.legend()\n",
    "plt.show()"
   ]
  },
  {
   "cell_type": "markdown",
   "metadata": {},
   "source": [
    "**Вывод**  \n",
    "\n",
    "Видно, что распределение суммарной концентрации сильно сужается на финальном этапе."
   ]
  },
  {
   "cell_type": "markdown",
   "metadata": {},
   "source": [
    "### Вывод\n",
    "\n",
    "В этом разделе были изучено:\n",
    " - именение концентрации металлов (Au, Ag, Pb) на различных этапах очистки\n",
    " - распределения размеров гранул сырья на обучающей и тестовой выборках\n",
    " - суммарнуя концентрацию всех веществ на разных стадиях: в сырье, в черновом и финальном концентратах\n",
    " \n",
    "Также были удалины аномальные значения для концентраций металов на разных этапах очистки. "
   ]
  },
  {
   "cell_type": "markdown",
   "metadata": {},
   "source": [
    "## Модель"
   ]
  },
  {
   "cell_type": "markdown",
   "metadata": {},
   "source": [
    "### Подготовка данных для обучения модели"
   ]
  },
  {
   "cell_type": "markdown",
   "metadata": {},
   "source": [
    "Первое, что надо сделать - удалить столбец date, так как он не несет никакого смысла для процесса."
   ]
  },
  {
   "cell_type": "code",
   "execution_count": 33,
   "metadata": {},
   "outputs": [],
   "source": [
    "data_train = data_train.drop(columns='date')\n",
    "data_test = data_test.drop(columns='date')"
   ]
  },
  {
   "cell_type": "markdown",
   "metadata": {},
   "source": [
    "Целевые значения: \n",
    "\n",
    "*rougher.output.recovery*  \n",
    "*final.output.recovery*   "
   ]
  },
  {
   "cell_type": "markdown",
   "metadata": {},
   "source": [
    "#### Данные для rougher.output.recovery"
   ]
  },
  {
   "cell_type": "code",
   "execution_count": 34,
   "metadata": {
    "scrolled": false
   },
   "outputs": [
    {
     "name": "stdout",
     "output_type": "stream",
     "text": [
      "22\n"
     ]
    },
    {
     "data": {
      "text/plain": [
       "['rougher.input.feed_ag',\n",
       " 'rougher.input.feed_pb',\n",
       " 'rougher.input.feed_rate',\n",
       " 'rougher.input.feed_size',\n",
       " 'rougher.input.feed_sol',\n",
       " 'rougher.input.feed_au',\n",
       " 'rougher.input.floatbank10_sulfate',\n",
       " 'rougher.input.floatbank10_xanthate',\n",
       " 'rougher.input.floatbank11_sulfate',\n",
       " 'rougher.input.floatbank11_xanthate',\n",
       " 'rougher.state.floatbank10_a_air',\n",
       " 'rougher.state.floatbank10_a_level',\n",
       " 'rougher.state.floatbank10_b_air',\n",
       " 'rougher.state.floatbank10_b_level',\n",
       " 'rougher.state.floatbank10_c_air',\n",
       " 'rougher.state.floatbank10_c_level',\n",
       " 'rougher.state.floatbank10_d_air',\n",
       " 'rougher.state.floatbank10_d_level',\n",
       " 'rougher.state.floatbank10_e_air',\n",
       " 'rougher.state.floatbank10_e_level',\n",
       " 'rougher.state.floatbank10_f_air',\n",
       " 'rougher.state.floatbank10_f_level']"
      ]
     },
     "execution_count": 34,
     "metadata": {},
     "output_type": "execute_result"
    }
   ],
   "source": [
    "rougher_columns_train = []\n",
    "for name in data_test.columns:\n",
    "    if 'rougher.state' in name or 'rougher.input' in name:\n",
    "        rougher_columns_train.append(name)\n",
    "print(len(rougher_columns_train))\n",
    "rougher_columns_train"
   ]
  },
  {
   "cell_type": "code",
   "execution_count": 35,
   "metadata": {},
   "outputs": [],
   "source": [
    "data_features_rougher_train = data_train[rougher_columns_train]\n",
    "data_target_rougher_train = data_train['rougher.output.recovery']\n",
    "\n",
    "data_features_rougher_test = data_test[rougher_columns_train]\n",
    "data_target_rougher_test = data_test['rougher.output.recovery']"
   ]
  },
  {
   "cell_type": "code",
   "execution_count": 36,
   "metadata": {},
   "outputs": [
    {
     "name": "stdout",
     "output_type": "stream",
     "text": [
      "Index(['rougher.input.feed_ag', 'rougher.input.feed_pb',\n",
      "       'rougher.input.feed_rate', 'rougher.input.feed_size',\n",
      "       'rougher.input.feed_sol', 'rougher.input.feed_au',\n",
      "       'rougher.input.floatbank10_sulfate',\n",
      "       'rougher.input.floatbank10_xanthate',\n",
      "       'rougher.input.floatbank11_sulfate',\n",
      "       'rougher.input.floatbank11_xanthate', 'rougher.state.floatbank10_a_air',\n",
      "       'rougher.state.floatbank10_a_level', 'rougher.state.floatbank10_b_air',\n",
      "       'rougher.state.floatbank10_b_level', 'rougher.state.floatbank10_c_air',\n",
      "       'rougher.state.floatbank10_c_level', 'rougher.state.floatbank10_d_air',\n",
      "       'rougher.state.floatbank10_d_level', 'rougher.state.floatbank10_e_air',\n",
      "       'rougher.state.floatbank10_e_level', 'rougher.state.floatbank10_f_air',\n",
      "       'rougher.state.floatbank10_f_level'],\n",
      "      dtype='object')\n",
      "\n",
      "Index(['rougher.input.feed_ag', 'rougher.input.feed_pb',\n",
      "       'rougher.input.feed_rate', 'rougher.input.feed_size',\n",
      "       'rougher.input.feed_sol', 'rougher.input.feed_au',\n",
      "       'rougher.input.floatbank10_sulfate',\n",
      "       'rougher.input.floatbank10_xanthate',\n",
      "       'rougher.input.floatbank11_sulfate',\n",
      "       'rougher.input.floatbank11_xanthate', 'rougher.state.floatbank10_a_air',\n",
      "       'rougher.state.floatbank10_a_level', 'rougher.state.floatbank10_b_air',\n",
      "       'rougher.state.floatbank10_b_level', 'rougher.state.floatbank10_c_air',\n",
      "       'rougher.state.floatbank10_c_level', 'rougher.state.floatbank10_d_air',\n",
      "       'rougher.state.floatbank10_d_level', 'rougher.state.floatbank10_e_air',\n",
      "       'rougher.state.floatbank10_e_level', 'rougher.state.floatbank10_f_air',\n",
      "       'rougher.state.floatbank10_f_level'],\n",
      "      dtype='object')\n"
     ]
    }
   ],
   "source": [
    "print(data_features_rougher_train.columns)\n",
    "print()\n",
    "print(data_features_rougher_test.columns)"
   ]
  },
  {
   "cell_type": "markdown",
   "metadata": {},
   "source": [
    "#### Данные для final.output.recovery"
   ]
  },
  {
   "cell_type": "code",
   "execution_count": 37,
   "metadata": {},
   "outputs": [],
   "source": [
    "data_features_final_train = data_train[data_test.drop(columns=['final.output.recovery', 'rougher.output.recovery']).columns]\n",
    "data_target_final_train = data_train['final.output.recovery']\n",
    "\n",
    "data_features_final_test = data_test[data_test.drop(columns=['final.output.recovery', 'rougher.output.recovery']).columns]\n",
    "data_target_final_test = data_test['final.output.recovery']"
   ]
  },
  {
   "cell_type": "code",
   "execution_count": 38,
   "metadata": {},
   "outputs": [
    {
     "name": "stdout",
     "output_type": "stream",
     "text": [
      "52\n",
      "52\n"
     ]
    }
   ],
   "source": [
    "print(len(data_features_final_train.columns))\n",
    "print(len(data_features_final_test.columns))"
   ]
  },
  {
   "cell_type": "markdown",
   "metadata": {},
   "source": [
    "### Метрика sMAPE"
   ]
  },
  {
   "cell_type": "code",
   "execution_count": 39,
   "metadata": {},
   "outputs": [],
   "source": [
    "def sMAPE(y_true,y_pred):\n",
    "    error = np.mean(abs(y_true - y_pred)/((abs(y_true)+abs(y_pred))/2))*100\n",
    "    return error"
   ]
  },
  {
   "cell_type": "code",
   "execution_count": 40,
   "metadata": {},
   "outputs": [],
   "source": [
    "def final_sMAPE(sMAPE_rougher,sMAPE_final):\n",
    "    return (0.25*sMAPE_rougher + 0.75*sMAPE_final)"
   ]
  },
  {
   "cell_type": "markdown",
   "metadata": {},
   "source": [
    "### Модель RandomForestRegressor"
   ]
  },
  {
   "cell_type": "code",
   "execution_count": 41,
   "metadata": {},
   "outputs": [],
   "source": [
    "my_score = make_scorer(sMAPE,greater_is_better=False)"
   ]
  },
  {
   "cell_type": "code",
   "execution_count": 42,
   "metadata": {},
   "outputs": [],
   "source": [
    "model_RF = make_pipeline(RandomForestRegressor(random_state=42))"
   ]
  },
  {
   "cell_type": "code",
   "execution_count": 43,
   "metadata": {},
   "outputs": [],
   "source": [
    "params_RF = {\"randomforestregressor__n_estimators\":[5,50],\n",
    "             \"randomforestregressor__max_depth\":[1,8]}"
   ]
  },
  {
   "cell_type": "code",
   "execution_count": 44,
   "metadata": {},
   "outputs": [],
   "source": [
    "grid_rougher_RF = GridSearchCV(model_RF,param_grid = params_RF,scoring=my_score)\n",
    "grid_final_RF = GridSearchCV(model_RF,param_grid = params_RF,scoring=my_score)"
   ]
  },
  {
   "cell_type": "code",
   "execution_count": 45,
   "metadata": {},
   "outputs": [
    {
     "name": "stdout",
     "output_type": "stream",
     "text": [
      "CPU times: user 2min 2s, sys: 157 ms, total: 2min 2s\n",
      "Wall time: 2min 2s\n"
     ]
    },
    {
     "data": {
      "text/plain": [
       "GridSearchCV(estimator=Pipeline(steps=[('randomforestregressor',\n",
       "                                        RandomForestRegressor(random_state=42))]),\n",
       "             param_grid={'randomforestregressor__max_depth': [1, 8],\n",
       "                         'randomforestregressor__n_estimators': [5, 50]},\n",
       "             scoring=make_scorer(sMAPE, greater_is_better=False))"
      ]
     },
     "execution_count": 45,
     "metadata": {},
     "output_type": "execute_result"
    }
   ],
   "source": [
    "%%time\n",
    "grid_rougher_RF.fit(data_features_rougher_train, data_target_rougher_train)\n",
    "grid_final_RF.fit(data_features_final_train, data_target_final_train)"
   ]
  },
  {
   "cell_type": "code",
   "execution_count": 46,
   "metadata": {},
   "outputs": [
    {
     "name": "stdout",
     "output_type": "stream",
     "text": [
      "Лучшие модели\n",
      "Pipeline(steps=[('randomforestregressor',\n",
      "                 RandomForestRegressor(max_depth=8, n_estimators=50,\n",
      "                                       random_state=42))])\n",
      "Pipeline(steps=[('randomforestregressor',\n",
      "                 RandomForestRegressor(max_depth=1, n_estimators=50,\n",
      "                                       random_state=42))])\n"
     ]
    }
   ],
   "source": [
    "print(\"Лучшие модели\")\n",
    "print(grid_rougher_RF.best_estimator_)\n",
    "print(grid_final_RF.best_estimator_)"
   ]
  },
  {
   "cell_type": "code",
   "execution_count": 47,
   "metadata": {},
   "outputs": [
    {
     "name": "stdout",
     "output_type": "stream",
     "text": [
      "RandomForest rougher -6.5795335130946215\n",
      "RandomForest final -9.4500446781007\n"
     ]
    }
   ],
   "source": [
    "best_score_rougher_RF = grid_rougher_RF.best_score_\n",
    "best_score_final_RF = grid_final_RF.best_score_\n",
    "print(\"RandomForest rougher\",best_score_rougher_RF)\n",
    "print(\"RandomForest final\",best_score_final_RF)"
   ]
  },
  {
   "cell_type": "markdown",
   "metadata": {},
   "source": [
    "### Модель DecisionTreeRegressor"
   ]
  },
  {
   "cell_type": "code",
   "execution_count": 48,
   "metadata": {},
   "outputs": [],
   "source": [
    "model_DT = make_pipeline(DecisionTreeRegressor(random_state=42))"
   ]
  },
  {
   "cell_type": "code",
   "execution_count": 49,
   "metadata": {},
   "outputs": [],
   "source": [
    "params_DT= {\"decisiontreeregressor__max_depth\":[1,15]}"
   ]
  },
  {
   "cell_type": "code",
   "execution_count": 50,
   "metadata": {},
   "outputs": [],
   "source": [
    "grid_rougher_DT = GridSearchCV(model_DT,param_grid = params_DT,scoring=my_score)\n",
    "grid_final_DT = GridSearchCV(model_DT,param_grid = params_DT,scoring=my_score)"
   ]
  },
  {
   "cell_type": "code",
   "execution_count": 51,
   "metadata": {},
   "outputs": [
    {
     "name": "stdout",
     "output_type": "stream",
     "text": [
      "CPU times: user 5.24 s, sys: 111 µs, total: 5.24 s\n",
      "Wall time: 5.25 s\n"
     ]
    },
    {
     "data": {
      "text/plain": [
       "GridSearchCV(estimator=Pipeline(steps=[('decisiontreeregressor',\n",
       "                                        DecisionTreeRegressor(random_state=42))]),\n",
       "             param_grid={'decisiontreeregressor__max_depth': [1, 15]},\n",
       "             scoring=make_scorer(sMAPE, greater_is_better=False))"
      ]
     },
     "execution_count": 51,
     "metadata": {},
     "output_type": "execute_result"
    }
   ],
   "source": [
    "%%time\n",
    "grid_rougher_DT.fit(data_features_rougher_train, data_target_rougher_train)\n",
    "grid_final_DT.fit(data_features_final_train, data_target_final_train)"
   ]
  },
  {
   "cell_type": "code",
   "execution_count": 52,
   "metadata": {},
   "outputs": [
    {
     "name": "stdout",
     "output_type": "stream",
     "text": [
      "Pipeline(steps=[('decisiontreeregressor',\n",
      "                 DecisionTreeRegressor(max_depth=1, random_state=42))])\n",
      "Pipeline(steps=[('decisiontreeregressor',\n",
      "                 DecisionTreeRegressor(max_depth=1, random_state=42))])\n"
     ]
    }
   ],
   "source": [
    "print(grid_rougher_DT.best_estimator_)\n",
    "print(grid_final_DT.best_estimator_)"
   ]
  },
  {
   "cell_type": "code",
   "execution_count": 53,
   "metadata": {},
   "outputs": [
    {
     "name": "stdout",
     "output_type": "stream",
     "text": [
      "DecisionTree rougher -7.92940195815892\n",
      "DecisionTree final -9.653516666536426\n"
     ]
    }
   ],
   "source": [
    "best_score_rougher_DT = grid_rougher_DT.best_score_\n",
    "best_score_final_DT = grid_final_DT.best_score_\n",
    "print(\"DecisionTree rougher\",best_score_rougher_DT)\n",
    "print(\"DecisionTree final\",best_score_final_DT)"
   ]
  },
  {
   "cell_type": "markdown",
   "metadata": {},
   "source": [
    "### Модель GradientBoostingRegressor"
   ]
  },
  {
   "cell_type": "code",
   "execution_count": 54,
   "metadata": {},
   "outputs": [],
   "source": [
    "model_GB = make_pipeline(StandardScaler(), GradientBoostingRegressor(random_state=42))"
   ]
  },
  {
   "cell_type": "code",
   "execution_count": 55,
   "metadata": {},
   "outputs": [],
   "source": [
    "params_GB = {\"gradientboostingregressor__n_estimators\":[5,50]}"
   ]
  },
  {
   "cell_type": "code",
   "execution_count": 56,
   "metadata": {},
   "outputs": [],
   "source": [
    "grid_rougher_GB = GridSearchCV(model_GB,param_grid = params_GB,scoring=my_score)\n",
    "grid_final_GB = GridSearchCV(model_GB,param_grid = params_GB,scoring=my_score)"
   ]
  },
  {
   "cell_type": "code",
   "execution_count": 57,
   "metadata": {},
   "outputs": [
    {
     "name": "stdout",
     "output_type": "stream",
     "text": [
      "CPU times: user 1min 21s, sys: 84.2 ms, total: 1min 21s\n",
      "Wall time: 1min 22s\n"
     ]
    },
    {
     "data": {
      "text/plain": [
       "GridSearchCV(estimator=Pipeline(steps=[('standardscaler', StandardScaler()),\n",
       "                                       ('gradientboostingregressor',\n",
       "                                        GradientBoostingRegressor(random_state=42))]),\n",
       "             param_grid={'gradientboostingregressor__n_estimators': [5, 50]},\n",
       "             scoring=make_scorer(sMAPE, greater_is_better=False))"
      ]
     },
     "execution_count": 57,
     "metadata": {},
     "output_type": "execute_result"
    }
   ],
   "source": [
    "%%time\n",
    "grid_rougher_GB.fit(data_features_rougher_train, data_target_rougher_train)\n",
    "grid_final_GB.fit(data_features_final_train, data_target_final_train)"
   ]
  },
  {
   "cell_type": "code",
   "execution_count": 58,
   "metadata": {},
   "outputs": [
    {
     "name": "stdout",
     "output_type": "stream",
     "text": [
      "Pipeline(steps=[('standardscaler', StandardScaler()),\n",
      "                ('gradientboostingregressor',\n",
      "                 GradientBoostingRegressor(n_estimators=50, random_state=42))])\n",
      "Pipeline(steps=[('standardscaler', StandardScaler()),\n",
      "                ('gradientboostingregressor',\n",
      "                 GradientBoostingRegressor(n_estimators=50, random_state=42))])\n"
     ]
    }
   ],
   "source": [
    "print(grid_rougher_GB.best_estimator_)\n",
    "print(grid_final_GB.best_estimator_)"
   ]
  },
  {
   "cell_type": "code",
   "execution_count": 59,
   "metadata": {},
   "outputs": [
    {
     "name": "stdout",
     "output_type": "stream",
     "text": [
      "DecisionTree rougher -6.315817582054985\n",
      "DecisionTree final -8.998244754294294\n"
     ]
    }
   ],
   "source": [
    "best_score_rougher_GB = grid_rougher_GB.best_score_\n",
    "best_score_final_GB = grid_final_GB.best_score_\n",
    "\n",
    "print(\"DecisionTree rougher\",best_score_rougher_GB)\n",
    "print(\"DecisionTree final\",best_score_final_GB)"
   ]
  },
  {
   "cell_type": "code",
   "execution_count": 60,
   "metadata": {
    "scrolled": true
   },
   "outputs": [
    {
     "name": "stdout",
     "output_type": "stream",
     "text": [
      "Случайный лес = -8.73241688684918\n",
      "Решаущие деревья = -9.22248798944205\n",
      "Градиентный бустинг = -8.327637961234467\n"
     ]
    }
   ],
   "source": [
    "# Финальный метрика sMAPE\n",
    "print(\"Случайный лес =\", final_sMAPE(best_score_rougher_RF,best_score_final_RF))\n",
    "print(\"Решаущие деревья =\", final_sMAPE(best_score_rougher_DT,best_score_final_DT))\n",
    "print(\"Градиентный бустинг =\", final_sMAPE(best_score_rougher_GB,best_score_final_GB))"
   ]
  },
  {
   "cell_type": "markdown",
   "metadata": {},
   "source": [
    "**Вывод**  \n",
    "\n",
    "Лучше всего осправляется гралиентный бустинг"
   ]
  },
  {
   "cell_type": "markdown",
   "metadata": {},
   "source": [
    "### Проверка на тестовой выборке"
   ]
  },
  {
   "cell_type": "code",
   "execution_count": 61,
   "metadata": {},
   "outputs": [],
   "source": [
    "rougher_test = grid_rougher_GB.predict(data_features_rougher_test)\n",
    "final_test = grid_final_GB.predict(data_features_final_test)"
   ]
  },
  {
   "cell_type": "code",
   "execution_count": 62,
   "metadata": {},
   "outputs": [
    {
     "data": {
      "text/plain": [
       "8.672411081772161"
      ]
     },
     "execution_count": 62,
     "metadata": {},
     "output_type": "execute_result"
    }
   ],
   "source": [
    "final_sMAPE(sMAPE(data_target_rougher_test, rougher_test),sMAPE(data_target_final_test,final_test))"
   ]
  },
  {
   "cell_type": "markdown",
   "metadata": {},
   "source": [
    "### Проверка модели на адекватность"
   ]
  },
  {
   "cell_type": "code",
   "execution_count": 63,
   "metadata": {},
   "outputs": [],
   "source": [
    "from sklearn.dummy import DummyRegressor"
   ]
  },
  {
   "cell_type": "code",
   "execution_count": 64,
   "metadata": {},
   "outputs": [
    {
     "name": "stdout",
     "output_type": "stream",
     "text": [
      "8.527316135126789\n"
     ]
    }
   ],
   "source": [
    "dummy_regressor_rougher = DummyRegressor(strategy=\"median\")\n",
    "dummy_regressor_rougher.fit(data_features_rougher_train, data_target_rougher_train)\n",
    "dummy_rougher_pred = dummy_regressor_rougher.predict(data_features_rougher_test)\n",
    "smape_dummy_rougher = sMAPE(data_target_rougher_test, dummy_rougher_pred)\n",
    "print(smape_dummy_rougher) "
   ]
  },
  {
   "cell_type": "code",
   "execution_count": 65,
   "metadata": {},
   "outputs": [
    {
     "name": "stdout",
     "output_type": "stream",
     "text": [
      "9.758133339036469\n"
     ]
    }
   ],
   "source": [
    "dummy_regressor_final = DummyRegressor(strategy=\"median\")\n",
    "dummy_regressor_final.fit(data_features_final_train, data_target_final_train)\n",
    "dummy_final_pred = dummy_regressor_final.predict(data_features_final_test)\n",
    "smape_dummy_final = sMAPE(data_target_final_test, dummy_final_pred)\n",
    "print(smape_dummy_final) "
   ]
  },
  {
   "cell_type": "code",
   "execution_count": 66,
   "metadata": {},
   "outputs": [
    {
     "data": {
      "text/plain": [
       "9.450429038059049"
      ]
     },
     "execution_count": 66,
     "metadata": {},
     "output_type": "execute_result"
    }
   ],
   "source": [
    "final_sMAPE(smape_dummy_rougher, smape_dummy_final)"
   ]
  },
  {
   "cell_type": "markdown",
   "metadata": {},
   "source": [
    "### Вывод \n",
    "\n",
    "В данной работе был исследован процесс получения руды из рудо содержащего материала методом флотации и последующей очистки. Приведены графики зависимости изменения концентрации золота, серебра и свинца на различных этапах очистки. Также было исследовано распределение размеров гранул и суммарная концентрация. Из данных были удалены аномальные значения.\n",
    "\n",
    "Для предсказания параметров rougher.output.recovery, final.output.recovery был сформированы 2 датасета и построены различные модели. Лучший результат на кросс валидации показала модель Gradient Boosting Regressor со значением ошибки final_shape = 8.32. На тестовой выборке результат равен 8.67.\n",
    "\n",
    "Модель была проверена на адекватность константной моделью DummyRegressor и ошибка на ней намного выше - 9.45.\n",
    "\n",
    "Лучше всего себя показал Градиентный бустинг, с финальной ошибкой 8.67."
   ]
  }
 ],
 "metadata": {
  "ExecuteTimeLog": [
   {
    "duration": 3,
    "start_time": "2022-12-28T17:39:28.521Z"
   },
   {
    "duration": 2160,
    "start_time": "2022-12-28T17:39:28.526Z"
   },
   {
    "duration": 5,
    "start_time": "2022-12-28T17:39:30.687Z"
   },
   {
    "duration": 813,
    "start_time": "2022-12-28T17:39:30.693Z"
   },
   {
    "duration": 186,
    "start_time": "2022-12-28T17:39:31.508Z"
   },
   {
    "duration": 14,
    "start_time": "2022-12-28T17:39:31.696Z"
   },
   {
    "duration": 13,
    "start_time": "2022-12-28T17:39:31.712Z"
   },
   {
    "duration": 12,
    "start_time": "2022-12-28T17:39:31.726Z"
   },
   {
    "duration": 14,
    "start_time": "2022-12-28T17:39:31.741Z"
   },
   {
    "duration": 8,
    "start_time": "2022-12-28T17:39:31.757Z"
   },
   {
    "duration": 17,
    "start_time": "2022-12-28T17:39:31.767Z"
   },
   {
    "duration": 15,
    "start_time": "2022-12-28T17:39:31.797Z"
   },
   {
    "duration": 23,
    "start_time": "2022-12-28T17:39:31.814Z"
   },
   {
    "duration": 9,
    "start_time": "2022-12-28T17:39:31.839Z"
   },
   {
    "duration": 11,
    "start_time": "2022-12-28T17:39:31.849Z"
   },
   {
    "duration": 24,
    "start_time": "2022-12-28T17:39:31.861Z"
   },
   {
    "duration": 57,
    "start_time": "2022-12-28T17:39:31.886Z"
   },
   {
    "duration": 23,
    "start_time": "2022-12-28T17:39:31.945Z"
   },
   {
    "duration": 17,
    "start_time": "2022-12-28T17:39:31.970Z"
   },
   {
    "duration": 30,
    "start_time": "2022-12-28T17:39:31.988Z"
   },
   {
    "duration": 22,
    "start_time": "2022-12-28T17:39:32.019Z"
   },
   {
    "duration": 6,
    "start_time": "2022-12-28T17:39:32.043Z"
   },
   {
    "duration": 3629,
    "start_time": "2022-12-28T17:39:32.051Z"
   },
   {
    "duration": 44,
    "start_time": "2022-12-28T17:39:35.683Z"
   },
   {
    "duration": 4,
    "start_time": "2022-12-28T17:39:35.729Z"
   },
   {
    "duration": 8,
    "start_time": "2022-12-28T17:39:35.734Z"
   },
   {
    "duration": 22,
    "start_time": "2022-12-28T17:39:35.743Z"
   },
   {
    "duration": 4,
    "start_time": "2022-12-28T17:39:35.766Z"
   },
   {
    "duration": 29,
    "start_time": "2022-12-28T17:39:35.772Z"
   },
   {
    "duration": 1349,
    "start_time": "2022-12-28T17:39:35.803Z"
   },
   {
    "duration": 8,
    "start_time": "2022-12-28T17:39:37.154Z"
   },
   {
    "duration": 2141,
    "start_time": "2022-12-28T17:39:37.164Z"
   },
   {
    "duration": 9,
    "start_time": "2022-12-28T17:39:39.307Z"
   },
   {
    "duration": 13,
    "start_time": "2022-12-28T17:39:39.318Z"
   },
   {
    "duration": 16,
    "start_time": "2022-12-28T17:39:39.333Z"
   },
   {
    "duration": 9,
    "start_time": "2022-12-28T17:39:39.351Z"
   },
   {
    "duration": 12,
    "start_time": "2022-12-28T17:39:39.362Z"
   },
   {
    "duration": 5,
    "start_time": "2022-12-28T17:39:39.376Z"
   },
   {
    "duration": 15,
    "start_time": "2022-12-28T17:39:39.382Z"
   },
   {
    "duration": 4,
    "start_time": "2022-12-28T17:39:39.398Z"
   },
   {
    "duration": 4,
    "start_time": "2022-12-28T17:39:39.403Z"
   },
   {
    "duration": 4,
    "start_time": "2022-12-28T17:39:39.409Z"
   },
   {
    "duration": 3,
    "start_time": "2022-12-28T17:39:47.363Z"
   },
   {
    "duration": 3,
    "start_time": "2022-12-28T17:39:47.733Z"
   },
   {
    "duration": 3,
    "start_time": "2022-12-28T17:39:48.066Z"
   },
   {
    "duration": 4047,
    "start_time": "2022-12-28T17:39:48.500Z"
   },
   {
    "duration": 6,
    "start_time": "2022-12-28T17:39:55.559Z"
   },
   {
    "duration": 4,
    "start_time": "2022-12-28T17:39:56.594Z"
   },
   {
    "duration": 24886,
    "start_time": "2022-12-28T18:41:42.197Z"
   },
   {
    "duration": 1458,
    "start_time": "2022-12-28T18:42:07.085Z"
   },
   {
    "duration": 6,
    "start_time": "2022-12-28T18:42:08.545Z"
   },
   {
    "duration": 123,
    "start_time": "2022-12-28T18:42:08.553Z"
   },
   {
    "duration": 0,
    "start_time": "2022-12-28T18:42:08.680Z"
   },
   {
    "duration": 0,
    "start_time": "2022-12-28T18:42:08.681Z"
   },
   {
    "duration": 0,
    "start_time": "2022-12-28T18:42:08.682Z"
   },
   {
    "duration": 0,
    "start_time": "2022-12-28T18:42:08.684Z"
   },
   {
    "duration": 0,
    "start_time": "2022-12-28T18:42:08.699Z"
   },
   {
    "duration": 0,
    "start_time": "2022-12-28T18:42:08.700Z"
   },
   {
    "duration": 0,
    "start_time": "2022-12-28T18:42:08.702Z"
   },
   {
    "duration": 0,
    "start_time": "2022-12-28T18:42:08.703Z"
   },
   {
    "duration": 0,
    "start_time": "2022-12-28T18:42:08.704Z"
   },
   {
    "duration": 0,
    "start_time": "2022-12-28T18:42:08.705Z"
   },
   {
    "duration": 0,
    "start_time": "2022-12-28T18:42:08.706Z"
   },
   {
    "duration": 0,
    "start_time": "2022-12-28T18:42:08.707Z"
   },
   {
    "duration": 0,
    "start_time": "2022-12-28T18:42:08.708Z"
   },
   {
    "duration": 0,
    "start_time": "2022-12-28T18:42:08.709Z"
   },
   {
    "duration": 0,
    "start_time": "2022-12-28T18:42:08.710Z"
   },
   {
    "duration": 0,
    "start_time": "2022-12-28T18:42:08.711Z"
   },
   {
    "duration": 0,
    "start_time": "2022-12-28T18:42:08.712Z"
   },
   {
    "duration": 0,
    "start_time": "2022-12-28T18:42:08.713Z"
   },
   {
    "duration": 0,
    "start_time": "2022-12-28T18:42:08.714Z"
   },
   {
    "duration": 0,
    "start_time": "2022-12-28T18:42:08.715Z"
   },
   {
    "duration": 0,
    "start_time": "2022-12-28T18:42:08.716Z"
   },
   {
    "duration": 0,
    "start_time": "2022-12-28T18:42:08.717Z"
   },
   {
    "duration": 0,
    "start_time": "2022-12-28T18:42:08.718Z"
   },
   {
    "duration": 0,
    "start_time": "2022-12-28T18:42:08.719Z"
   },
   {
    "duration": 0,
    "start_time": "2022-12-28T18:42:08.720Z"
   },
   {
    "duration": 0,
    "start_time": "2022-12-28T18:42:08.721Z"
   },
   {
    "duration": 0,
    "start_time": "2022-12-28T18:42:08.722Z"
   },
   {
    "duration": 0,
    "start_time": "2022-12-28T18:42:08.723Z"
   },
   {
    "duration": 0,
    "start_time": "2022-12-28T18:42:08.724Z"
   },
   {
    "duration": 0,
    "start_time": "2022-12-28T18:42:08.725Z"
   },
   {
    "duration": 0,
    "start_time": "2022-12-28T18:42:08.726Z"
   },
   {
    "duration": 0,
    "start_time": "2022-12-28T18:42:08.727Z"
   },
   {
    "duration": 0,
    "start_time": "2022-12-28T18:42:08.729Z"
   },
   {
    "duration": 0,
    "start_time": "2022-12-28T18:42:08.731Z"
   },
   {
    "duration": 0,
    "start_time": "2022-12-28T18:42:08.732Z"
   },
   {
    "duration": 0,
    "start_time": "2022-12-28T18:42:08.733Z"
   },
   {
    "duration": 0,
    "start_time": "2022-12-28T18:42:08.734Z"
   },
   {
    "duration": 0,
    "start_time": "2022-12-28T18:42:08.736Z"
   },
   {
    "duration": 0,
    "start_time": "2022-12-28T18:42:08.737Z"
   },
   {
    "duration": 0,
    "start_time": "2022-12-28T18:42:08.738Z"
   },
   {
    "duration": 0,
    "start_time": "2022-12-28T18:42:08.740Z"
   },
   {
    "duration": 0,
    "start_time": "2022-12-28T18:42:08.741Z"
   },
   {
    "duration": 0,
    "start_time": "2022-12-28T18:42:08.743Z"
   },
   {
    "duration": 0,
    "start_time": "2022-12-28T18:42:08.744Z"
   },
   {
    "duration": 0,
    "start_time": "2022-12-28T18:42:08.796Z"
   },
   {
    "duration": 0,
    "start_time": "2022-12-28T18:42:08.797Z"
   },
   {
    "duration": 0,
    "start_time": "2022-12-28T18:42:08.798Z"
   },
   {
    "duration": 0,
    "start_time": "2022-12-28T18:42:08.798Z"
   },
   {
    "duration": 0,
    "start_time": "2022-12-28T18:42:08.799Z"
   },
   {
    "duration": 0,
    "start_time": "2022-12-28T18:42:08.802Z"
   },
   {
    "duration": 0,
    "start_time": "2022-12-28T18:42:08.803Z"
   },
   {
    "duration": 0,
    "start_time": "2022-12-28T18:42:08.805Z"
   },
   {
    "duration": 0,
    "start_time": "2022-12-28T18:42:08.806Z"
   },
   {
    "duration": 0,
    "start_time": "2022-12-28T18:42:08.807Z"
   },
   {
    "duration": 0,
    "start_time": "2022-12-28T18:42:08.809Z"
   },
   {
    "duration": 0,
    "start_time": "2022-12-28T18:42:08.810Z"
   },
   {
    "duration": 0,
    "start_time": "2022-12-28T18:42:08.812Z"
   },
   {
    "duration": 0,
    "start_time": "2022-12-28T18:42:08.813Z"
   },
   {
    "duration": 3,
    "start_time": "2022-12-28T18:42:21.410Z"
   },
   {
    "duration": 26,
    "start_time": "2022-12-28T18:42:21.414Z"
   },
   {
    "duration": 16,
    "start_time": "2022-12-28T18:42:21.442Z"
   },
   {
    "duration": 34,
    "start_time": "2022-12-28T18:42:21.460Z"
   },
   {
    "duration": 0,
    "start_time": "2022-12-28T18:42:21.496Z"
   },
   {
    "duration": 0,
    "start_time": "2022-12-28T18:42:21.497Z"
   },
   {
    "duration": 0,
    "start_time": "2022-12-28T18:42:21.499Z"
   },
   {
    "duration": 0,
    "start_time": "2022-12-28T18:42:21.500Z"
   },
   {
    "duration": 0,
    "start_time": "2022-12-28T18:42:21.501Z"
   },
   {
    "duration": 1,
    "start_time": "2022-12-28T18:42:21.501Z"
   },
   {
    "duration": 0,
    "start_time": "2022-12-28T18:42:21.503Z"
   },
   {
    "duration": 0,
    "start_time": "2022-12-28T18:42:21.504Z"
   },
   {
    "duration": 0,
    "start_time": "2022-12-28T18:42:21.505Z"
   },
   {
    "duration": 0,
    "start_time": "2022-12-28T18:42:21.506Z"
   },
   {
    "duration": 0,
    "start_time": "2022-12-28T18:42:21.507Z"
   },
   {
    "duration": 3,
    "start_time": "2022-12-28T18:42:21.540Z"
   },
   {
    "duration": 31,
    "start_time": "2022-12-28T18:42:21.545Z"
   },
   {
    "duration": 0,
    "start_time": "2022-12-28T18:42:21.597Z"
   },
   {
    "duration": 0,
    "start_time": "2022-12-28T18:42:21.598Z"
   },
   {
    "duration": 0,
    "start_time": "2022-12-28T18:42:21.602Z"
   },
   {
    "duration": 0,
    "start_time": "2022-12-28T18:42:21.608Z"
   },
   {
    "duration": 0,
    "start_time": "2022-12-28T18:42:21.609Z"
   },
   {
    "duration": 0,
    "start_time": "2022-12-28T18:42:21.609Z"
   },
   {
    "duration": 0,
    "start_time": "2022-12-28T18:42:21.610Z"
   },
   {
    "duration": 0,
    "start_time": "2022-12-28T18:42:21.611Z"
   },
   {
    "duration": 0,
    "start_time": "2022-12-28T18:42:21.612Z"
   },
   {
    "duration": 0,
    "start_time": "2022-12-28T18:42:21.613Z"
   },
   {
    "duration": 0,
    "start_time": "2022-12-28T18:42:21.618Z"
   },
   {
    "duration": 0,
    "start_time": "2022-12-28T18:42:21.619Z"
   },
   {
    "duration": 0,
    "start_time": "2022-12-28T18:42:21.620Z"
   },
   {
    "duration": 0,
    "start_time": "2022-12-28T18:42:21.621Z"
   },
   {
    "duration": 0,
    "start_time": "2022-12-28T18:42:21.622Z"
   },
   {
    "duration": 0,
    "start_time": "2022-12-28T18:42:21.623Z"
   },
   {
    "duration": 0,
    "start_time": "2022-12-28T18:42:21.624Z"
   },
   {
    "duration": 0,
    "start_time": "2022-12-28T18:42:21.626Z"
   },
   {
    "duration": 0,
    "start_time": "2022-12-28T18:42:21.628Z"
   },
   {
    "duration": 0,
    "start_time": "2022-12-28T18:42:21.629Z"
   },
   {
    "duration": 0,
    "start_time": "2022-12-28T18:42:21.630Z"
   },
   {
    "duration": 0,
    "start_time": "2022-12-28T18:42:21.631Z"
   },
   {
    "duration": 0,
    "start_time": "2022-12-28T18:42:21.633Z"
   },
   {
    "duration": 0,
    "start_time": "2022-12-28T18:42:21.634Z"
   },
   {
    "duration": 0,
    "start_time": "2022-12-28T18:42:21.635Z"
   },
   {
    "duration": 0,
    "start_time": "2022-12-28T18:42:21.637Z"
   },
   {
    "duration": 0,
    "start_time": "2022-12-28T18:42:21.639Z"
   },
   {
    "duration": 0,
    "start_time": "2022-12-28T18:42:21.640Z"
   },
   {
    "duration": 0,
    "start_time": "2022-12-28T18:42:21.642Z"
   },
   {
    "duration": 0,
    "start_time": "2022-12-28T18:42:21.643Z"
   },
   {
    "duration": 0,
    "start_time": "2022-12-28T18:42:21.645Z"
   },
   {
    "duration": 0,
    "start_time": "2022-12-28T18:42:21.645Z"
   },
   {
    "duration": 0,
    "start_time": "2022-12-28T18:42:21.705Z"
   },
   {
    "duration": 0,
    "start_time": "2022-12-28T18:42:21.706Z"
   },
   {
    "duration": 0,
    "start_time": "2022-12-28T18:42:21.712Z"
   },
   {
    "duration": 0,
    "start_time": "2022-12-28T18:42:21.713Z"
   },
   {
    "duration": 0,
    "start_time": "2022-12-28T18:42:21.714Z"
   },
   {
    "duration": 0,
    "start_time": "2022-12-28T18:42:21.716Z"
   },
   {
    "duration": 0,
    "start_time": "2022-12-28T18:42:21.717Z"
   },
   {
    "duration": 0,
    "start_time": "2022-12-28T18:42:21.718Z"
   },
   {
    "duration": 0,
    "start_time": "2022-12-28T18:42:21.719Z"
   },
   {
    "duration": 0,
    "start_time": "2022-12-28T18:42:21.720Z"
   },
   {
    "duration": 0,
    "start_time": "2022-12-28T18:42:21.720Z"
   },
   {
    "duration": 0,
    "start_time": "2022-12-28T18:42:21.721Z"
   },
   {
    "duration": 0,
    "start_time": "2022-12-28T18:42:21.722Z"
   },
   {
    "duration": 12290,
    "start_time": "2022-12-28T18:42:42.769Z"
   },
   {
    "duration": 3228,
    "start_time": "2022-12-28T18:43:13.987Z"
   },
   {
    "duration": 2485,
    "start_time": "2022-12-28T18:43:17.219Z"
   },
   {
    "duration": 7,
    "start_time": "2022-12-28T18:43:19.711Z"
   },
   {
    "duration": 3670,
    "start_time": "2022-12-28T18:43:19.723Z"
   },
   {
    "duration": 207,
    "start_time": "2022-12-28T18:43:23.396Z"
   },
   {
    "duration": 23,
    "start_time": "2022-12-28T18:43:23.607Z"
   },
   {
    "duration": 10,
    "start_time": "2022-12-28T18:43:23.633Z"
   },
   {
    "duration": 22,
    "start_time": "2022-12-28T18:43:23.646Z"
   },
   {
    "duration": 16,
    "start_time": "2022-12-28T18:43:23.670Z"
   },
   {
    "duration": 7,
    "start_time": "2022-12-28T18:43:23.697Z"
   },
   {
    "duration": 32,
    "start_time": "2022-12-28T18:43:23.706Z"
   },
   {
    "duration": 28,
    "start_time": "2022-12-28T18:43:23.740Z"
   },
   {
    "duration": 46,
    "start_time": "2022-12-28T18:43:23.769Z"
   },
   {
    "duration": 7,
    "start_time": "2022-12-28T18:43:23.820Z"
   },
   {
    "duration": 7,
    "start_time": "2022-12-28T18:43:23.829Z"
   },
   {
    "duration": 5,
    "start_time": "2022-12-28T18:43:23.838Z"
   },
   {
    "duration": 9,
    "start_time": "2022-12-28T18:43:23.845Z"
   },
   {
    "duration": 16,
    "start_time": "2022-12-28T18:43:23.857Z"
   },
   {
    "duration": 23,
    "start_time": "2022-12-28T18:43:23.876Z"
   },
   {
    "duration": 33,
    "start_time": "2022-12-28T18:43:23.901Z"
   },
   {
    "duration": 27,
    "start_time": "2022-12-28T18:43:23.936Z"
   },
   {
    "duration": 18,
    "start_time": "2022-12-28T18:43:23.969Z"
   },
   {
    "duration": 5190,
    "start_time": "2022-12-28T18:43:23.989Z"
   },
   {
    "duration": 47,
    "start_time": "2022-12-28T18:43:29.180Z"
   },
   {
    "duration": 4,
    "start_time": "2022-12-28T18:43:29.230Z"
   },
   {
    "duration": 18,
    "start_time": "2022-12-28T18:43:29.236Z"
   },
   {
    "duration": 20,
    "start_time": "2022-12-28T18:43:29.256Z"
   },
   {
    "duration": 5,
    "start_time": "2022-12-28T18:43:29.281Z"
   },
   {
    "duration": 19,
    "start_time": "2022-12-28T18:43:29.297Z"
   },
   {
    "duration": 1883,
    "start_time": "2022-12-28T18:43:29.318Z"
   },
   {
    "duration": 9,
    "start_time": "2022-12-28T18:43:31.205Z"
   },
   {
    "duration": 2300,
    "start_time": "2022-12-28T18:43:31.219Z"
   },
   {
    "duration": 9,
    "start_time": "2022-12-28T18:43:33.522Z"
   },
   {
    "duration": 18,
    "start_time": "2022-12-28T18:43:33.534Z"
   },
   {
    "duration": 16,
    "start_time": "2022-12-28T18:43:33.555Z"
   },
   {
    "duration": 5,
    "start_time": "2022-12-28T18:43:33.574Z"
   },
   {
    "duration": 23,
    "start_time": "2022-12-28T18:43:33.582Z"
   },
   {
    "duration": 15,
    "start_time": "2022-12-28T18:43:33.607Z"
   },
   {
    "duration": 7,
    "start_time": "2022-12-28T18:43:33.624Z"
   },
   {
    "duration": 12,
    "start_time": "2022-12-28T18:43:33.633Z"
   },
   {
    "duration": 5,
    "start_time": "2022-12-28T18:43:33.647Z"
   },
   {
    "duration": 6,
    "start_time": "2022-12-28T18:43:33.654Z"
   },
   {
    "duration": 6,
    "start_time": "2022-12-28T18:43:33.661Z"
   },
   {
    "duration": 5,
    "start_time": "2022-12-28T18:43:33.669Z"
   },
   {
    "duration": 307287,
    "start_time": "2022-12-28T18:43:33.675Z"
   },
   {
    "duration": 6,
    "start_time": "2022-12-28T18:48:40.964Z"
   },
   {
    "duration": 13,
    "start_time": "2022-12-28T18:48:40.972Z"
   },
   {
    "duration": 25,
    "start_time": "2022-12-28T18:48:40.987Z"
   },
   {
    "duration": 5,
    "start_time": "2022-12-28T18:48:41.015Z"
   },
   {
    "duration": 6,
    "start_time": "2022-12-28T18:48:41.022Z"
   },
   {
    "duration": 4344,
    "start_time": "2022-12-28T18:48:41.030Z"
   },
   {
    "duration": 6,
    "start_time": "2022-12-28T18:48:45.375Z"
   },
   {
    "duration": 22,
    "start_time": "2022-12-28T18:48:45.383Z"
   },
   {
    "duration": 12,
    "start_time": "2022-12-28T18:48:45.406Z"
   },
   {
    "duration": 7,
    "start_time": "2022-12-28T18:48:45.419Z"
   },
   {
    "duration": 7,
    "start_time": "2022-12-28T18:48:45.428Z"
   },
   {
    "duration": 84461,
    "start_time": "2022-12-28T18:48:45.437Z"
   },
   {
    "duration": 13,
    "start_time": "2022-12-28T18:50:09.908Z"
   },
   {
    "duration": 18,
    "start_time": "2022-12-28T18:50:09.923Z"
   },
   {
    "duration": 16,
    "start_time": "2022-12-28T18:50:09.943Z"
   },
   {
    "duration": 18,
    "start_time": "2022-12-28T18:50:09.961Z"
   },
   {
    "duration": 11,
    "start_time": "2022-12-28T18:50:09.981Z"
   },
   {
    "duration": 3,
    "start_time": "2022-12-28T18:54:12.241Z"
   },
   {
    "duration": 9,
    "start_time": "2022-12-28T18:54:13.652Z"
   },
   {
    "duration": 199,
    "start_time": "2022-12-28T18:54:34.143Z"
   },
   {
    "duration": 11,
    "start_time": "2022-12-28T18:55:14.631Z"
   },
   {
    "duration": 9,
    "start_time": "2022-12-28T18:55:46.224Z"
   },
   {
    "duration": 11,
    "start_time": "2022-12-28T18:55:46.650Z"
   },
   {
    "duration": 7,
    "start_time": "2022-12-28T18:56:03.028Z"
   },
   {
    "duration": 5,
    "start_time": "2022-12-28T18:56:35.524Z"
   },
   {
    "duration": 4,
    "start_time": "2022-12-28T19:06:28.560Z"
   },
   {
    "duration": 64,
    "start_time": "2022-12-28T19:06:31.457Z"
   },
   {
    "duration": 3,
    "start_time": "2022-12-28T19:06:59.160Z"
   },
   {
    "duration": 188,
    "start_time": "2022-12-28T19:08:19.024Z"
   },
   {
    "duration": 1132,
    "start_time": "2022-12-28T19:08:26.621Z"
   },
   {
    "duration": 4,
    "start_time": "2022-12-28T19:25:36.865Z"
   },
   {
    "duration": 1981,
    "start_time": "2022-12-28T19:25:36.872Z"
   },
   {
    "duration": 5,
    "start_time": "2022-12-28T19:25:38.855Z"
   },
   {
    "duration": 840,
    "start_time": "2022-12-28T19:25:38.863Z"
   },
   {
    "duration": 211,
    "start_time": "2022-12-28T19:25:39.705Z"
   },
   {
    "duration": 24,
    "start_time": "2022-12-28T19:25:39.924Z"
   },
   {
    "duration": 11,
    "start_time": "2022-12-28T19:25:39.954Z"
   },
   {
    "duration": 13,
    "start_time": "2022-12-28T19:25:39.967Z"
   },
   {
    "duration": 21,
    "start_time": "2022-12-28T19:25:39.984Z"
   },
   {
    "duration": 8,
    "start_time": "2022-12-28T19:25:40.014Z"
   },
   {
    "duration": 9,
    "start_time": "2022-12-28T19:25:40.024Z"
   },
   {
    "duration": 7,
    "start_time": "2022-12-28T19:25:40.035Z"
   },
   {
    "duration": 26,
    "start_time": "2022-12-28T19:25:40.045Z"
   },
   {
    "duration": 13,
    "start_time": "2022-12-28T19:25:40.098Z"
   },
   {
    "duration": 14,
    "start_time": "2022-12-28T19:25:40.112Z"
   },
   {
    "duration": 6,
    "start_time": "2022-12-28T19:25:40.129Z"
   },
   {
    "duration": 53,
    "start_time": "2022-12-28T19:25:40.137Z"
   },
   {
    "duration": 46,
    "start_time": "2022-12-28T19:25:40.193Z"
   },
   {
    "duration": 4,
    "start_time": "2022-12-28T19:25:40.241Z"
   },
   {
    "duration": 16,
    "start_time": "2022-12-28T19:25:40.247Z"
   },
   {
    "duration": 9,
    "start_time": "2022-12-28T19:25:40.266Z"
   },
   {
    "duration": 16,
    "start_time": "2022-12-28T19:25:40.278Z"
   },
   {
    "duration": 3552,
    "start_time": "2022-12-28T19:25:40.299Z"
   },
   {
    "duration": 50,
    "start_time": "2022-12-28T19:25:43.855Z"
   },
   {
    "duration": 4,
    "start_time": "2022-12-28T19:25:43.908Z"
   },
   {
    "duration": 4,
    "start_time": "2022-12-28T19:25:43.915Z"
   },
   {
    "duration": 31,
    "start_time": "2022-12-28T19:25:43.921Z"
   },
   {
    "duration": 11,
    "start_time": "2022-12-28T19:25:43.954Z"
   },
   {
    "duration": 5,
    "start_time": "2022-12-28T19:25:43.967Z"
   },
   {
    "duration": 1215,
    "start_time": "2022-12-28T19:25:43.974Z"
   },
   {
    "duration": 16,
    "start_time": "2022-12-28T19:25:45.197Z"
   },
   {
    "duration": 3537,
    "start_time": "2022-12-28T19:25:45.215Z"
   },
   {
    "duration": 67,
    "start_time": "2022-12-28T19:25:48.754Z"
   },
   {
    "duration": 15,
    "start_time": "2022-12-28T19:25:48.823Z"
   },
   {
    "duration": 9,
    "start_time": "2022-12-28T19:25:48.841Z"
   },
   {
    "duration": 9,
    "start_time": "2022-12-28T19:25:48.852Z"
   },
   {
    "duration": 16,
    "start_time": "2022-12-28T19:25:48.863Z"
   },
   {
    "duration": 5,
    "start_time": "2022-12-28T19:25:48.881Z"
   },
   {
    "duration": 16,
    "start_time": "2022-12-28T19:25:48.888Z"
   },
   {
    "duration": 22,
    "start_time": "2022-12-28T19:25:48.906Z"
   },
   {
    "duration": 7,
    "start_time": "2022-12-28T19:25:48.930Z"
   },
   {
    "duration": 7,
    "start_time": "2022-12-28T19:25:48.939Z"
   },
   {
    "duration": 7,
    "start_time": "2022-12-28T19:25:48.948Z"
   },
   {
    "duration": 5,
    "start_time": "2022-12-28T19:25:48.957Z"
   },
   {
    "duration": 122721,
    "start_time": "2022-12-28T19:25:48.964Z"
   },
   {
    "duration": 11,
    "start_time": "2022-12-28T19:27:51.687Z"
   },
   {
    "duration": 22,
    "start_time": "2022-12-28T19:27:51.703Z"
   },
   {
    "duration": 8,
    "start_time": "2022-12-28T19:27:51.727Z"
   },
   {
    "duration": 12,
    "start_time": "2022-12-28T19:27:51.737Z"
   },
   {
    "duration": 4,
    "start_time": "2022-12-28T19:27:51.751Z"
   },
   {
    "duration": 5261,
    "start_time": "2022-12-28T19:27:51.757Z"
   },
   {
    "duration": 5,
    "start_time": "2022-12-28T19:27:57.020Z"
   },
   {
    "duration": 7,
    "start_time": "2022-12-28T19:27:57.027Z"
   },
   {
    "duration": 5,
    "start_time": "2022-12-28T19:27:57.036Z"
   },
   {
    "duration": 5,
    "start_time": "2022-12-28T19:27:57.043Z"
   },
   {
    "duration": 12,
    "start_time": "2022-12-28T19:27:57.049Z"
   },
   {
    "duration": 82059,
    "start_time": "2022-12-28T19:27:57.062Z"
   },
   {
    "duration": 9,
    "start_time": "2022-12-28T19:29:19.123Z"
   },
   {
    "duration": 6,
    "start_time": "2022-12-28T19:29:19.133Z"
   },
   {
    "duration": 8,
    "start_time": "2022-12-28T19:29:19.141Z"
   },
   {
    "duration": 16,
    "start_time": "2022-12-28T19:29:19.151Z"
   },
   {
    "duration": 39,
    "start_time": "2022-12-28T19:29:19.169Z"
   },
   {
    "duration": 4,
    "start_time": "2022-12-28T19:29:19.213Z"
   },
   {
    "duration": 9,
    "start_time": "2022-12-28T19:29:19.219Z"
   },
   {
    "duration": 9,
    "start_time": "2022-12-28T19:29:19.230Z"
   },
   {
    "duration": 6,
    "start_time": "2022-12-28T19:29:19.241Z"
   },
   {
    "duration": 51,
    "start_time": "2022-12-28T19:37:12.356Z"
   },
   {
    "duration": 1074,
    "start_time": "2022-12-28T19:40:20.107Z"
   },
   {
    "duration": 974,
    "start_time": "2022-12-28T19:40:42.700Z"
   },
   {
    "duration": 1094,
    "start_time": "2022-12-28T19:40:52.256Z"
   },
   {
    "duration": 17,
    "start_time": "2022-12-28T19:41:55.194Z"
   },
   {
    "duration": 15,
    "start_time": "2022-12-28T19:42:06.854Z"
   }
  ],
  "kernelspec": {
   "display_name": "Python 3 (ipykernel)",
   "language": "python",
   "name": "python3"
  },
  "language_info": {
   "codemirror_mode": {
    "name": "ipython",
    "version": 3
   },
   "file_extension": ".py",
   "mimetype": "text/x-python",
   "name": "python",
   "nbconvert_exporter": "python",
   "pygments_lexer": "ipython3",
   "version": "3.9.12"
  },
  "toc": {
   "base_numbering": 1,
   "nav_menu": {},
   "number_sections": true,
   "sideBar": true,
   "skip_h1_title": true,
   "title_cell": "Содержание",
   "title_sidebar": "Contents",
   "toc_cell": true,
   "toc_position": {
    "height": "calc(100% - 180px)",
    "left": "10px",
    "top": "150px",
    "width": "233.219px"
   },
   "toc_section_display": true,
   "toc_window_display": true
  }
 },
 "nbformat": 4,
 "nbformat_minor": 2
}
